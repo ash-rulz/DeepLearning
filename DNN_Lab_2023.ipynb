{
 "cells": [
  {
   "cell_type": "markdown",
   "metadata": {},
   "source": [
    "# Deep Neural Networks Laboration\n",
    "\n",
    "Data used in this laboration are from the Kitsune Network Attack Dataset, https://archive.ics.uci.edu/ml/datasets/Kitsune+Network+Attack+Dataset . We will focus on the 'Mirai' part of the dataset. Your task is to make a DNN that can classify if each attack is benign or malicious. The dataset has 116 covariates, but to make it a bit more difficult we will remove the first 24 covariates.\n",
    "\n",
    "You need to answer all questions in this notebook.\n",
    "\n",
    "If the training is too slow on your own computer, use the smaller datasets (*half or *quarter).\n",
    "\n",
    "Dense networks are not optimal for tabular datasets like the one used here, but here the main goal is to learn deep learning."
   ]
  },
  {
   "cell_type": "markdown",
   "metadata": {},
   "source": [
    "# Part 1: Get the data\n",
    "\n",
    "Skip this part if you load stored numpy arrays (Mirai*.npy) (which is recommended)\n",
    "\n",
    "Use `wget` in the terminal of your cloud machine (in the same directory as where you have saved this notebook) to download the data, i.e.\n",
    "\n",
    "wget https://archive.ics.uci.edu/ml/machine-learning-databases/00516/mirai/Mirai_dataset.csv.gz\n",
    "\n",
    "wget https://archive.ics.uci.edu/ml/machine-learning-databases/00516/mirai/Mirai_labels.csv.gz\n",
    "\n",
    "Then unpack the files using `gunzip` in the terminal, i.e.\n",
    "\n",
    "gunzip Mirai_dataset.csv.gz\n",
    "\n",
    "gunzip Mirai_labels.csv.gz"
   ]
  },
  {
   "cell_type": "markdown",
   "metadata": {},
   "source": [
    "# Part 2: Get a graphics card\n",
    "\n",
    "Skip this part if you run on the CPU (recommended)\n",
    "\n",
    "Lets make sure that our script can see the graphics card that will be used. The graphics cards will perform all the time consuming calculations in every training iteration."
   ]
  },
  {
   "cell_type": "code",
   "execution_count": null,
   "metadata": {},
   "outputs": [],
   "source": [
    "import os\n",
    "import warnings\n",
    "\n",
    "# Ignore FutureWarning from numpy\n",
    "warnings.simplefilter(action='ignore', category=FutureWarning)\n",
    "\n",
    "import keras.backend as K\n",
    "import tensorflow as tf\n",
    "\n",
    "os.environ[\"CUDA_DEVICE_ORDER\"]=\"PCI_BUS_ID\";\n",
    " \n",
    "# The GPU id to use, usually either \"0\" or \"1\";\n",
    "os.environ[\"CUDA_VISIBLE_DEVICES\"]=\"0\";\n",
    "\n",
    "# Allow growth of GPU memory, otherwise it will always look like all the memory is being used\n",
    "physical_devices = tf.config.experimental.list_physical_devices('GPU')\n",
    "tf.config.experimental.set_memory_growth(physical_devices[0], True) "
   ]
  },
  {
   "cell_type": "markdown",
   "metadata": {},
   "source": [
    "# Part 3: Hardware\n",
    "\n",
    "In deep learning, the computer hardware is very important. You should always know what kind of hardware you are working on. Lets pretend that everyone is using an Nvidia RTX 3090 graphics card.\n",
    "\n",
    "Question 1: Google the name of the graphics card, how many CUDA cores does it have?\n",
    "\n",
    "Question 2: How much memory does the graphics card have?\n",
    "\n",
    "Question 3: What is stored in the GPU memory while training a DNN ?"
   ]
  },
  {
   "cell_type": "markdown",
   "metadata": {},
   "source": [
    "# Part 4: Load the data\n",
    "\n",
    "To make this step easier, directly load the data from saved numpy arrays (.npy) (recommended)\n",
    "\n",
    "\n",
    "Load the dataset from the csv files, it will take some time since it is almost 1.4 GB. (not recommended, unless you want to learn how to do it)\n",
    "\n",
    "We will use the function `genfromtxt` to load the data. (not recommended, unless you want to learn how to do it)\n",
    "\n",
    "https://docs.scipy.org/doc/numpy/reference/generated/numpy.genfromtxt.html\n",
    "\n",
    "Load the data from csv files the first time, then save the data as numpy files for faster loading the next time.\n",
    "\n",
    "Remove the first 24 covariates to make the task harder."
   ]
  },
  {
   "cell_type": "code",
   "execution_count": 1,
   "metadata": {},
   "outputs": [
    {
     "name": "stdout",
     "output_type": "stream",
     "text": [
      "The covariates have size (191035, 92).\n",
      "The labels have size (191035,).\n",
      "Class values: [0. 1.] and counts: [ 30406 160629]\n"
     ]
    }
   ],
   "source": [
    "from numpy import genfromtxt # Not needed if you load data from numpy arrays\n",
    "import numpy as np\n",
    "\n",
    "# Load data from numpy arrays, choose reduced files if the training takes too long\n",
    "X = np.load('Mirai_data_quarter.npy')\n",
    "Y = np.load('Mirai_labels_quarter.npy')\n",
    "\n",
    "\n",
    "\n",
    "# Remove the first 24 covariates (columns)\n",
    "X = X[:, 24:]\n",
    "\n",
    "print('The covariates have size {}.'.format(X.shape))\n",
    "print('The labels have size {}.'.format(Y.shape))\n",
    "\n",
    "# Print the number of examples of each class\n",
    "class_val, count = np.unique(Y, return_counts = True)\n",
    "print(f\"Class values: {class_val} and counts: {count}\")"
   ]
  },
  {
   "cell_type": "markdown",
   "metadata": {},
   "source": [
    "# Part 5: How good is a naive classifier?\n",
    "\n",
    "Question 4: Given the number of examples from each class, how high classification performance can a naive classifier obtain? The naive classifier will assume that all examples belong to one class. Note: you do not need to make a naive classifier, this is a theoretical question, just to understand how good performance we can obtain by guessing that all examples belong to one class.\n",
    "\n",
    "In all classification tasks you should always ask these questions\n",
    "\n",
    "- How good classification accuracy can a naive classifier obtain? The naive classifier will assume that all examples belong to one class.\n",
    "- What is random chance classification accuracy if you randomly guess the label of each (test) example? For a balanced dataset and binary classification this is easy (50%), but in many cases it is more complicated and a Monte Carlo simulation may be required to estimate random chance accuracy.\n",
    "\n",
    "If your classifier cannot perform better than a naive classifier or a random classifier, you are doing something wrong.\n"
   ]
  },
  {
   "cell_type": "code",
   "execution_count": 2,
   "metadata": {},
   "outputs": [
    {
     "name": "stdout",
     "output_type": "stream",
     "text": [
      "Number of NaNs in Y: 0\n",
      "Number of NaNs in X: [0 0 0 0 0 0 0 0 0 0 0 0 0 0 0 0 0 0 0 0 0 0 0 0 0 0 0 0 0 0 0 0 0 0 0 0 0\n",
      " 0 0 0 0 0 0 0 0 0 0 0 0 0 0 0 0 0 0 0 0 0 0 0 0 0 0 0 0 0 0 0 0 0 0 0 0 0\n",
      " 0 0 0 0 0 0 0 0 0 0 0 0 0 0 0 0 0 0]\n"
     ]
    }
   ],
   "source": [
    "# It is common to have NaNs in the data, lets check for it. Hint: np.isnan()\n",
    "\n",
    "\n",
    "# Print the number of NaNs (not a number) in the labels\n",
    "print(f\"Number of NaNs in Y: {np.count_nonzero(np.isnan(Y))}\")\n",
    "\n",
    "# Print the number of NaNs in the covariates\n",
    "print(f\"Number of NaNs in X: {sum(np.isnan(X))}\")"
   ]
  },
  {
   "cell_type": "markdown",
   "metadata": {},
   "source": [
    "# Part 6: Preprocessing\n",
    "\n",
    "Lets do some simple preprocessing"
   ]
  },
  {
   "cell_type": "code",
   "execution_count": 3,
   "metadata": {},
   "outputs": [
    {
     "name": "stdout",
     "output_type": "stream",
     "text": [
      "Mean of X:[ 0. -0.  0.  0.  0. -0.  0. -0.  0. -0.  0.  0. -0.  0.  0. -0. -0.  0.\n",
      "  0.  0.  0. -0.  0.  0. -0. -0. -0.  0. -0.  0.  0. -0. -0. -0.  0. -0.\n",
      " -0.  0.  0.  0.  0.  0. -0.  0.  0.  0. -0. -0. -0.  0.  0. -0.  0. -0.\n",
      " -0. -0.  0. -0.  0. -0.  0.  0. -0. -0.  0. -0. -0.  0. -0.  0. -0. -0.\n",
      "  0. -0. -0. -0.  0.  0.  0.  0. -0. -0.  0. -0. -0. -0.  0. -0.  0.  0.\n",
      "  0.  0.]\n",
      "SD of X:[1. 1. 1. 1. 1. 1. 1. 1. 1. 1. 1. 1. 1. 1. 1. 1. 1. 1. 1. 1. 1. 1. 1. 1.\n",
      " 1. 1. 1. 1. 1. 1. 1. 1. 1. 1. 1. 1. 1. 1. 1. 1. 1. 1. 1. 1. 1. 1. 1. 1.\n",
      " 1. 1. 1. 1. 1. 1. 1. 1. 1. 1. 1. 1. 1. 1. 1. 1. 1. 1. 1. 1. 1. 1. 1. 1.\n",
      " 1. 1. 1. 1. 1. 1. 1. 1. 1. 1. 1. 1. 1. 1. 1. 1. 1. 1. 1. 1.]\n"
     ]
    }
   ],
   "source": [
    "# Convert covariates to floats\n",
    "X = X.astype(float)\n",
    "# Convert labels to integers\n",
    "Y = Y.astype(int)\n",
    "# Remove mean of each covariate (column)\n",
    "X_mean = np.mean(X, axis = 0) \n",
    "X_sd = np.std(X, axis = 0)\n",
    "X = X - X_mean\n",
    "# Divide each covariate (column) by its standard deviation\n",
    "X = X/X_sd\n",
    "# Check that mean is 0 and standard deviation is 1 for all covariates, by printing mean and std\n",
    "#np.set_printoptions(threshold=None)\n",
    "print(f\"Mean of X:{np.round(np.mean(X, axis = 0))}\")\n",
    "print(f\"SD of X:{np.std(X, axis = 0)}\")"
   ]
  },
  {
   "cell_type": "markdown",
   "metadata": {},
   "source": [
    "# Part 7: Split the dataset\n",
    "\n",
    "Use the first 70% of the dataset for training, leave the other 30% for validation and test, call the variables\n",
    "\n",
    "Xtrain (70%)\n",
    "\n",
    "Xtemp  (30%)\n",
    "\n",
    "Ytrain (70%)\n",
    "\n",
    "Ytemp  (30%)\n",
    "\n",
    "We use a function from scikit learn.\n",
    "https://scikit-learn.org/stable/modules/generated/sklearn.model_selection.train_test_split.html\n"
   ]
  },
  {
   "cell_type": "code",
   "execution_count": 4,
   "metadata": {},
   "outputs": [
    {
     "name": "stdout",
     "output_type": "stream",
     "text": [
      "Xtrain has size (133724, 92).\n",
      "Ytrain has size (133724,).\n",
      "Xtemp has size (57311, 92).\n",
      "Ytemp has size (57311,).\n",
      "Class values: [0 1] and counts: [ 21387 112337]\n",
      "Class values: [0 1] and counts: [ 9019 48292]\n"
     ]
    }
   ],
   "source": [
    "from sklearn.model_selection import train_test_split\n",
    "\n",
    "# Your code to split the dataset\n",
    "Xtrain, Xtemp, Ytrain, Ytemp = train_test_split(X, Y, test_size=0.30, random_state=42)\n",
    "\n",
    "print('Xtrain has size {}.'.format(Xtrain.shape))\n",
    "print('Ytrain has size {}.'.format(Ytrain.shape))\n",
    "\n",
    "print('Xtemp has size {}.'.format(Xtemp.shape))\n",
    "print('Ytemp has size {}.'.format(Ytemp.shape))\n",
    "\n",
    "# Print the number of examples of each class, for the training data and the remaining 30%\n",
    "train_class_val, train_count = np.unique(Ytrain, return_counts = True)\n",
    "temp_class_val, temp_count = np.unique(Ytemp, return_counts = True)\n",
    "print(f\"Class values: {train_class_val} and counts: {train_count}\")\n",
    "print(f\"Class values: {temp_class_val} and counts: {temp_count}\")"
   ]
  },
  {
   "cell_type": "markdown",
   "metadata": {},
   "source": [
    "#  Part 8: Split non-training data data into validation and test\n",
    "Now split your non-training data (Xtemp, Ytemp) into 50% validation (Xval, Yval) and 50% testing (Xtest, Ytest), we use a function from scikit learn. In total this gives us 70% for training, 15% for validation, 15% for test.\n",
    "\n",
    "https://scikit-learn.org/stable/modules/generated/sklearn.model_selection.train_test_split.html\n",
    "\n",
    "Do all variables (Xtrain,Ytrain), (Xval,Yval), (Xtest,Ytest) have the shape that you expect?"
   ]
  },
  {
   "cell_type": "code",
   "execution_count": 5,
   "metadata": {},
   "outputs": [
    {
     "name": "stdout",
     "output_type": "stream",
     "text": [
      "The validation and test data have size (28655, 92), (28656, 92), (28655,) and (28656,)\n"
     ]
    }
   ],
   "source": [
    "from sklearn.model_selection import train_test_split\n",
    "\n",
    "# Your code\n",
    "Xval, Xtest, Yval, Ytest = train_test_split(Xtemp, Ytemp, test_size=0.50, random_state=42)\n",
    "print('The validation and test data have size {}, {}, {} and {}'.format(Xval.shape, Xtest.shape, Yval.shape, Ytest.shape))"
   ]
  },
  {
   "cell_type": "markdown",
   "metadata": {},
   "source": [
    "# Part 9: DNN classification\n",
    "\n",
    "Finish this code to create a first version of the classifier using a DNN. Start with a simple network with 2 dense layers (with 20 nodes each), using sigmoid activation functions. The final dense layer should have a single node and a sigmoid activation function. We start with the SGD optimizer.\n",
    "\n",
    "For different parts of this notebook you need to go back here, add more things, and re-run this cell to re-define the build function.\n",
    "\n",
    "Relevant functions are\n",
    "\n",
    "`model.add()`, adds a layer to the network\n",
    "\n",
    "`Dense()`, a dense network layer\n",
    "\n",
    "`model.compile()`, compile the model, add \" metrics=['accuracy'] \" to print the classification accuracy during the training\n",
    "\n",
    "See https://keras.io/layers/core/ for information on how the `Dense()` function works\n",
    "\n",
    "Import a relevant cost / loss function for binary classification from keras.losses (https://keras.io/losses/)\n",
    "\n",
    "See the following links for how to compile, train and evaluate the model\n",
    "\n",
    "https://keras.io/api/models/model_training_apis/#compile-method\n",
    "\n",
    "https://keras.io/api/models/model_training_apis/#fit-method\n",
    "\n",
    "https://keras.io/api/models/model_training_apis/#evaluate-method\n",
    "\n",
    "Make sure that the last layer always has a sigmoid activation function (why?).\n"
   ]
  },
  {
   "cell_type": "code",
   "execution_count": 9,
   "metadata": {},
   "outputs": [],
   "source": [
    "from keras.models import Sequential, Model\n",
    "from keras.layers import Input, Dense, BatchNormalization, Dropout\n",
    "from tensorflow.keras.optimizers import SGD, Adam\n",
    "from keras.losses import BinaryCrossentropy\n",
    "\n",
    "# Set seed from random number generator, for better comparisons\n",
    "from numpy.random import seed\n",
    "seed(123)\n",
    "\n",
    "def build_DNN(input_shape, n_layers, n_nodes, act_fun='sigmoid', optimizer='sgd', learning_rate=0.01, \n",
    "              use_bn=False, use_dropout=False, use_custom_dropout=False):\n",
    "    \n",
    "    # Setup optimizer, depending on input parameter string\n",
    "    if(optimizer == 'sgd'):\n",
    "        mod_optimizer = SGD(learning_rate=learning_rate)\n",
    "    elif(optimizer == 'adam'):\n",
    "        mod_optimizer = Adam(learning_rate=learning_rate)\n",
    "            \n",
    "    # Setup a sequential model\n",
    "    model = Sequential()\n",
    "\n",
    "    # Add layers to the model, using the input parameters of the build_DNN function\n",
    "    # Add first layer, requires input shape\n",
    "    model.add(Input(shape=input_shape))\n",
    "    # Add remaining layers, do not require input shape\n",
    "    for i in range(n_layers):\n",
    "        print(f\"Layer {i+1}\")\n",
    "        model.add(Dense(n_nodes, activation=act_fun))\n",
    "        if(use_dropout):\n",
    "            model.add(Dropout(.5))\n",
    "        if(use_bn):\n",
    "            model.add(BatchNormalization())\n",
    "        if(use_custom_dropout):\n",
    "            model.add(myDropout(.5))\n",
    "    \n",
    "    # Add final layer\n",
    "    model.add(Dense(1, activation='sigmoid'))\n",
    "    \n",
    "    # Compile model\n",
    "    model.compile(optimizer=mod_optimizer,\n",
    "                  #loss=BinaryCrossentropy(from_logits=True),\n",
    "                  loss=BinaryCrossentropy(),\n",
    "                  metrics=['accuracy'])\n",
    "    \n",
    "    return model"
   ]
  },
  {
   "cell_type": "code",
   "execution_count": 10,
   "metadata": {},
   "outputs": [],
   "source": [
    "# Lets define a help function for plotting the training results\n",
    "\n",
    "import matplotlib.pyplot as plt\n",
    "def plot_results(history):\n",
    "    \n",
    "    val_loss = history.history['val_loss']\n",
    "    acc = history.history['accuracy']\n",
    "    loss = history.history['loss']\n",
    "    val_acc = history.history['val_accuracy']\n",
    "    \n",
    "    plt.figure(figsize=(10,4))\n",
    "    plt.xlabel('Epochs')\n",
    "    plt.ylabel('Loss')\n",
    "    plt.plot(loss)\n",
    "    plt.plot(val_loss)\n",
    "    plt.legend(['Training','Validation'])\n",
    "\n",
    "    plt.figure(figsize=(10,4))\n",
    "    plt.xlabel('Epochs')\n",
    "    plt.ylabel('Accuracy')\n",
    "    plt.plot(acc)\n",
    "    plt.plot(val_acc)\n",
    "    plt.legend(['Training','Validation'])\n",
    "\n",
    "    plt.show()"
   ]
  },
  {
   "cell_type": "markdown",
   "metadata": {},
   "source": [
    "# Part 10: Train the DNN\n",
    "\n",
    "Time to train the DNN, we start simple with 2 layers with 20 nodes each, learning rate 0.1.\n",
    "\n",
    "Relevant functions\n",
    "\n",
    "`build_DNN`, the function we defined in Part 9, call it with the parameters you want to use\n",
    "\n",
    "`model.fit()`, train the model with some training data\n",
    "\n",
    "`model.evaluate()`, apply the trained model to some test data\n",
    "\n",
    "See the following links for how to train and evaluate the model\n",
    "\n",
    "https://keras.io/api/models/model_training_apis/#fit-method\n",
    "\n",
    "https://keras.io/api/models/model_training_apis/#evaluate-method\n",
    "\n",
    "\n",
    "Make sure that you are using learning rate 0.1 !"
   ]
  },
  {
   "cell_type": "markdown",
   "metadata": {},
   "source": [
    "### 2 layers, 20 nodes"
   ]
  },
  {
   "cell_type": "code",
   "execution_count": 16,
   "metadata": {
    "scrolled": true
   },
   "outputs": [
    {
     "name": "stdout",
     "output_type": "stream",
     "text": [
      "Layer 1\n",
      "Layer 2\n",
      "Epoch 1/20\n",
      "14/14 [==============================] - 1s 30ms/step - loss: 0.7468 - accuracy: 0.2025 - val_loss: 0.6783 - val_accuracy: 0.8478\n",
      "Epoch 2/20\n",
      "14/14 [==============================] - 0s 16ms/step - loss: 0.6384 - accuracy: 0.8418 - val_loss: 0.5944 - val_accuracy: 0.8434\n",
      "Epoch 3/20\n",
      "14/14 [==============================] - 0s 18ms/step - loss: 0.5700 - accuracy: 0.8401 - val_loss: 0.5408 - val_accuracy: 0.8433\n",
      "Epoch 4/20\n",
      "14/14 [==============================] - 0s 18ms/step - loss: 0.5259 - accuracy: 0.8401 - val_loss: 0.5056 - val_accuracy: 0.8433\n",
      "Epoch 5/20\n",
      "14/14 [==============================] - 0s 17ms/step - loss: 0.4968 - accuracy: 0.8401 - val_loss: 0.4819 - val_accuracy: 0.8433\n",
      "Epoch 6/20\n",
      "14/14 [==============================] - 0s 16ms/step - loss: 0.4771 - accuracy: 0.8401 - val_loss: 0.4656 - val_accuracy: 0.8433\n",
      "Epoch 7/20\n",
      "14/14 [==============================] - 0s 17ms/step - loss: 0.4635 - accuracy: 0.8401 - val_loss: 0.4541 - val_accuracy: 0.8433\n",
      "Epoch 8/20\n",
      "14/14 [==============================] - 0s 18ms/step - loss: 0.4538 - accuracy: 0.8401 - val_loss: 0.4458 - val_accuracy: 0.8433 0s - loss: 0.4561 - accuracy: 0.\n",
      "Epoch 9/20\n",
      "14/14 [==============================] - 0s 15ms/step - loss: 0.4467 - accuracy: 0.8401 - val_loss: 0.4396 - val_accuracy: 0.8433\n",
      "Epoch 10/20\n",
      "14/14 [==============================] - 0s 15ms/step - loss: 0.4415 - accuracy: 0.8401 - val_loss: 0.4350 - val_accuracy: 0.8433\n",
      "Epoch 11/20\n",
      "14/14 [==============================] - 0s 16ms/step - loss: 0.4375 - accuracy: 0.8401 - val_loss: 0.4314 - val_accuracy: 0.8433\n",
      "Epoch 12/20\n",
      "14/14 [==============================] - 0s 20ms/step - loss: 0.4343 - accuracy: 0.8401 - val_loss: 0.4285 - val_accuracy: 0.8433\n",
      "Epoch 13/20\n",
      "14/14 [==============================] - 0s 17ms/step - loss: 0.4319 - accuracy: 0.8401 - val_loss: 0.4262 - val_accuracy: 0.8433\n",
      "Epoch 14/20\n",
      "14/14 [==============================] - 0s 15ms/step - loss: 0.4298 - accuracy: 0.8401 - val_loss: 0.4242 - val_accuracy: 0.8433\n",
      "Epoch 15/20\n",
      "14/14 [==============================] - 0s 29ms/step - loss: 0.4281 - accuracy: 0.8401 - val_loss: 0.4226 - val_accuracy: 0.8433\n",
      "Epoch 16/20\n",
      "14/14 [==============================] - 0s 19ms/step - loss: 0.4266 - accuracy: 0.8401 - val_loss: 0.4212 - val_accuracy: 0.8433\n",
      "Epoch 17/20\n",
      "14/14 [==============================] - 0s 16ms/step - loss: 0.4253 - accuracy: 0.8401 - val_loss: 0.4199 - val_accuracy: 0.8433\n",
      "Epoch 18/20\n",
      "14/14 [==============================] - 0s 16ms/step - loss: 0.4241 - accuracy: 0.8401 - val_loss: 0.4187 - val_accuracy: 0.8433\n",
      "Epoch 19/20\n",
      "14/14 [==============================] - 0s 17ms/step - loss: 0.4231 - accuracy: 0.8401 - val_loss: 0.4176 - val_accuracy: 0.8433\n",
      "Epoch 20/20\n",
      "14/14 [==============================] - 0s 16ms/step - loss: 0.4221 - accuracy: 0.8401 - val_loss: 0.4166 - val_accuracy: 0.8433\n"
     ]
    }
   ],
   "source": [
    "# Setup some training parameters\n",
    "batch_size = 10000\n",
    "epochs = 20\n",
    "\n",
    "input_shape = Xtrain.shape[1]\n",
    "\n",
    "# Build the model\n",
    "model1 = build_DNN(input_shape, n_layers = 2, n_nodes = 20, act_fun='sigmoid', optimizer='sgd', learning_rate=0.01, \n",
    "              use_bn=False, use_dropout=False, use_custom_dropout=False)\n",
    "# Train the model, provide training data and validation data\n",
    "history1 = model1.fit(x=Xtrain,\n",
    "                      y=Ytrain,\n",
    "                      batch_size=batch_size,\n",
    "                      epochs=epochs,\n",
    "                      verbose=\"auto\",\n",
    "                      validation_data = (Xval, Yval)\n",
    "                     )"
   ]
  },
  {
   "cell_type": "code",
   "execution_count": 17,
   "metadata": {},
   "outputs": [
    {
     "name": "stdout",
     "output_type": "stream",
     "text": [
      "Test loss: 0.4188\n",
      "Test accuracy: 0.8419\n"
     ]
    }
   ],
   "source": [
    "# Evaluate the model on the test data\n",
    "score = model1.evaluate(\n",
    "    x=Xtest,\n",
    "    y=Ytest,\n",
    "    verbose=\"auto\")\n",
    "\n",
    "print('Test loss: %.4f' % score[0])\n",
    "print('Test accuracy: %.4f' % score[1])"
   ]
  },
  {
   "cell_type": "code",
   "execution_count": 18,
   "metadata": {},
   "outputs": [
    {
     "data": {
      "image/png": "[encoded data removed]",
      "text/plain": [
       "<Figure size 720x288 with 1 Axes>"
      ]
     },
     "metadata": {
      "needs_background": "light"
     },
     "output_type": "display_data"
    },
    {
     "data": {
      "image/png": "[encoded data removed]",
      "text/plain": [
       "<Figure size 720x288 with 1 Axes>"
      ]
     },
     "metadata": {
      "needs_background": "light"
     },
     "output_type": "display_data"
    }
   ],
   "source": [
    "# Plot the history from the training run\n",
    "plot_results(history1)"
   ]
  },
  {
   "cell_type": "markdown",
   "metadata": {},
   "source": [
    "# Part 11: More questions\n",
    "\n",
    "Question 5: What happens if you add several Dense layers without specifying the activation function?\n",
    "\n",
    "Question 6: How are the weights in each dense layer initialized as default? How are the bias weights initialized?\n"
   ]
  },
  {
   "cell_type": "markdown",
   "metadata": {},
   "source": [
    "# Part 12: Balancing the classes\n",
    "\n",
    "This dataset is rather unbalanced, we need to define class weights so that the training pays more attention to the class with fewer samples. We use a function in scikit learn\n",
    "\n",
    "https://scikit-learn.org/stable/modules/generated/sklearn.utils.class_weight.compute_class_weight.html\n",
    "\n",
    "You need to call the function something like this\n",
    "\n",
    "class_weights = class_weight.compute_class_weight(class_weight = , classes = , y = )\n",
    "\n",
    "otherwise it will complain"
   ]
  },
  {
   "cell_type": "code",
   "execution_count": 19,
   "metadata": {},
   "outputs": [
    {
     "name": "stdout",
     "output_type": "stream",
     "text": [
      "[3.12629167 0.59519125]\n"
     ]
    }
   ],
   "source": [
    "from sklearn.utils import class_weight\n",
    "\n",
    "# Calculate class weights\n",
    "class_weights = class_weight.compute_class_weight(class_weight = 'balanced', classes = np.unique(Ytrain), y = Ytrain)\n",
    "\n",
    "# Print the class weights\n",
    "print(class_weights)\n",
    "# Keras wants the weights in this form, uncomment and change value1 and value2 to your weights, \n",
    "# or get them from the array that is returned from class_weight\n",
    "\n",
    "class_weights = {0: class_weights[0],\n",
    "                 1: class_weights[1]}\n"
   ]
  },
  {
   "cell_type": "markdown",
   "metadata": {},
   "source": [
    "### 2 layers, 20 nodes, class weights"
   ]
  },
  {
   "cell_type": "code",
   "execution_count": 20,
   "metadata": {
    "scrolled": true
   },
   "outputs": [
    {
     "name": "stdout",
     "output_type": "stream",
     "text": [
      "Layer 1\n",
      "Layer 2\n",
      "Epoch 1/20\n",
      "14/14 [==============================] - 1s 30ms/step - loss: 0.7115 - accuracy: 0.8401 - val_loss: 0.5471 - val_accuracy: 0.8433\n",
      "Epoch 2/20\n",
      "14/14 [==============================] - 0s 17ms/step - loss: 0.6943 - accuracy: 0.8401 - val_loss: 0.5689 - val_accuracy: 0.8433\n",
      "Epoch 3/20\n",
      "14/14 [==============================] - 0s 17ms/step - loss: 0.6826 - accuracy: 0.8398 - val_loss: 0.5870 - val_accuracy: 0.8426\n",
      "Epoch 4/20\n",
      "14/14 [==============================] - 0s 17ms/step - loss: 0.6743 - accuracy: 0.8403 - val_loss: 0.6016 - val_accuracy: 0.8441\n",
      "Epoch 5/20\n",
      "14/14 [==============================] - 0s 18ms/step - loss: 0.6681 - accuracy: 0.8424 - val_loss: 0.6130 - val_accuracy: 0.8493\n",
      "Epoch 6/20\n",
      "14/14 [==============================] - 0s 16ms/step - loss: 0.6631 - accuracy: 0.8549 - val_loss: 0.6217 - val_accuracy: 0.8656\n",
      "Epoch 7/20\n",
      "14/14 [==============================] - 0s 15ms/step - loss: 0.6589 - accuracy: 0.8654 - val_loss: 0.6279 - val_accuracy: 0.8663\n",
      "Epoch 8/20\n",
      "14/14 [==============================] - 0s 15ms/step - loss: 0.6551 - accuracy: 0.8669 - val_loss: 0.6323 - val_accuracy: 0.8753\n",
      "Epoch 9/20\n",
      "14/14 [==============================] - 0s 17ms/step - loss: 0.6516 - accuracy: 0.8738 - val_loss: 0.6352 - val_accuracy: 0.8833\n",
      "Epoch 10/20\n",
      "14/14 [==============================] - 0s 15ms/step - loss: 0.6483 - accuracy: 0.8855 - val_loss: 0.6367 - val_accuracy: 0.8889\n",
      "Epoch 11/20\n",
      "14/14 [==============================] - 0s 16ms/step - loss: 0.6450 - accuracy: 0.8856 - val_loss: 0.6372 - val_accuracy: 0.8862\n",
      "Epoch 12/20\n",
      "14/14 [==============================] - 0s 16ms/step - loss: 0.6418 - accuracy: 0.8826 - val_loss: 0.6368 - val_accuracy: 0.8827\n",
      "Epoch 13/20\n",
      "14/14 [==============================] - 0s 15ms/step - loss: 0.6385 - accuracy: 0.8808 - val_loss: 0.6361 - val_accuracy: 0.8813\n",
      "Epoch 14/20\n",
      "14/14 [==============================] - 0s 17ms/step - loss: 0.6353 - accuracy: 0.8799 - val_loss: 0.6348 - val_accuracy: 0.8800\n",
      "Epoch 15/20\n",
      "14/14 [==============================] - 0s 16ms/step - loss: 0.6320 - accuracy: 0.8793 - val_loss: 0.6327 - val_accuracy: 0.8800\n",
      "Epoch 16/20\n",
      "14/14 [==============================] - 0s 17ms/step - loss: 0.6287 - accuracy: 0.8792 - val_loss: 0.6302 - val_accuracy: 0.8799\n",
      "Epoch 17/20\n",
      "14/14 [==============================] - 0s 15ms/step - loss: 0.6253 - accuracy: 0.8792 - val_loss: 0.6278 - val_accuracy: 0.8797\n",
      "Epoch 18/20\n",
      "14/14 [==============================] - 0s 19ms/step - loss: 0.6219 - accuracy: 0.8790 - val_loss: 0.6253 - val_accuracy: 0.8802\n",
      "Epoch 19/20\n",
      "14/14 [==============================] - 0s 17ms/step - loss: 0.6185 - accuracy: 0.8794 - val_loss: 0.6224 - val_accuracy: 0.8799\n",
      "Epoch 20/20\n",
      "14/14 [==============================] - 0s 15ms/step - loss: 0.6150 - accuracy: 0.8791 - val_loss: 0.6192 - val_accuracy: 0.8804\n"
     ]
    }
   ],
   "source": [
    "# Setup some training parameters\n",
    "batch_size = 10000\n",
    "epochs = 20\n",
    "input_shape = Xtrain.shape[1]\n",
    "\n",
    "# Build and train model\n",
    "model2 = build_DNN(input_shape, n_layers = 2, n_nodes = 20, act_fun='sigmoid', optimizer='sgd', learning_rate=0.01, \n",
    "              use_bn=False, use_dropout=False, use_custom_dropout=False)\n",
    "\n",
    "history2 = model2.fit(x=Xtrain,\n",
    "                      y=Ytrain,\n",
    "                      batch_size=batch_size,\n",
    "                      epochs=epochs,\n",
    "                      verbose=\"auto\",\n",
    "                      validation_data = (Xval, Yval),\n",
    "                      class_weight=class_weights\n",
    "                     )"
   ]
  },
  {
   "cell_type": "code",
   "execution_count": 21,
   "metadata": {},
   "outputs": [
    {
     "name": "stdout",
     "output_type": "stream",
     "text": [
      "Model: \"sequential_2\"\n",
      "_________________________________________________________________\n",
      " Layer (type)                Output Shape              Param #   \n",
      "=================================================================\n",
      " dense_6 (Dense)             (None, 20)                1860      \n",
      "                                                                 \n",
      " dense_7 (Dense)             (None, 20)                420       \n",
      "                                                                 \n",
      " dense_8 (Dense)             (None, 1)                 21        \n",
      "                                                                 \n",
      "=================================================================\n",
      "Total params: 2,301\n",
      "Trainable params: 2,301\n",
      "Non-trainable params: 0\n",
      "_________________________________________________________________\n"
     ]
    }
   ],
   "source": [
    "model2.summary()"
   ]
  },
  {
   "cell_type": "code",
   "execution_count": 22,
   "metadata": {},
   "outputs": [
    {
     "name": "stdout",
     "output_type": "stream",
     "text": [
      "Test loss: 0.6194\n",
      "Test accuracy: 0.8766\n"
     ]
    }
   ],
   "source": [
    "# Evaluate model on test data\n",
    "score = model2.evaluate(\n",
    "    x=Xtest,\n",
    "    y=Ytest,\n",
    "    verbose=\"auto\")\n",
    "\n",
    "print('Test loss: %.4f' % score[0])\n",
    "print('Test accuracy: %.4f' % score[1])"
   ]
  },
  {
   "cell_type": "code",
   "execution_count": 23,
   "metadata": {},
   "outputs": [
    {
     "data": {
      "image/png": "[encoded data removed]",
      "text/plain": [
       "<Figure size 720x288 with 1 Axes>"
      ]
     },
     "metadata": {
      "needs_background": "light"
     },
     "output_type": "display_data"
    },
    {
     "data": {
      "image/png": "[encoded data removed]",
      "text/plain": [
       "<Figure size 720x288 with 1 Axes>"
      ]
     },
     "metadata": {
      "needs_background": "light"
     },
     "output_type": "display_data"
    }
   ],
   "source": [
    "plot_results(history2)"
   ]
  },
  {
   "cell_type": "markdown",
   "metadata": {},
   "source": [
    "# Part 13: More questions\n",
    "\n",
    "Skip questions 8 and 9 if you run on the CPU (recommended)\n",
    "\n",
    "Question 7: Why do we have to use a batch size? Why can't we simply use all data at once? This is more relevant for even larger datasets.\n",
    "\n",
    "Question 8: How busy is the GPU for a batch size of 100? How much GPU memory is used? Hint: run 'nvidia-smi' on the computer a few times during training.\n",
    "\n",
    "Question 9: What is the processing time for one training epoch when the batch size is 100? What is the processing time for one epoch when the batch size is 1,000? What is the processing time for one epoch when the batch size is 10,000? Explain the results. \n",
    "\n",
    "Question 10: How many times are the weights in the DNN updated in each training epoch if the batch size is 100? How many times are the weights in the DNN updated in each training epoch if the batch size is 1,000? How many times are the weights in the DNN updated in each training epoch if the batch size is 10,000?  \n",
    "\n",
    "Question 11: What limits how large the batch size can be?\n",
    "\n",
    "Question 12: Generally speaking, how is the learning rate related to the batch size? If the batch size is decreased, how should the learning rate be changed?\n",
    "\n",
    "Lets use a batch size of 10,000 from now on, and a learning rate of 0.1."
   ]
  },
  {
   "cell_type": "markdown",
   "metadata": {},
   "source": [
    "# Part 14: Increasing the complexity\n",
    "\n",
    "Lets try some different configurations of number of layers and number of nodes per layer.\n",
    "\n",
    "Question 13: How many trainable parameters does the network with 4 dense layers with 50 nodes each have, compared to the initial network with 2 layers and 20 nodes per layer? Hint: use model.summary()"
   ]
  },
  {
   "cell_type": "markdown",
   "metadata": {},
   "source": [
    "### 4 layers, 20 nodes, class weights"
   ]
  },
  {
   "cell_type": "code",
   "execution_count": 24,
   "metadata": {
    "scrolled": true
   },
   "outputs": [
    {
     "name": "stdout",
     "output_type": "stream",
     "text": [
      "Layer 1\n",
      "Layer 2\n",
      "Layer 3\n",
      "Layer 4\n",
      "Epoch 1/20\n",
      "14/14 [==============================] - 1s 40ms/step - loss: 0.7654 - accuracy: 0.8401 - val_loss: 0.5146 - val_accuracy: 0.8433\n",
      "Epoch 2/20\n",
      "14/14 [==============================] - 0s 22ms/step - loss: 0.7378 - accuracy: 0.8401 - val_loss: 0.5428 - val_accuracy: 0.8433\n",
      "Epoch 3/20\n",
      "14/14 [==============================] - 0s 21ms/step - loss: 0.7201 - accuracy: 0.8401 - val_loss: 0.5687 - val_accuracy: 0.8433\n",
      "Epoch 4/20\n",
      "14/14 [==============================] - 0s 21ms/step - loss: 0.7090 - accuracy: 0.8401 - val_loss: 0.5914 - val_accuracy: 0.8433\n",
      "Epoch 5/20\n",
      "14/14 [==============================] - 0s 20ms/step - loss: 0.7020 - accuracy: 0.8401 - val_loss: 0.6107 - val_accuracy: 0.8433\n",
      "Epoch 6/20\n",
      "14/14 [==============================] - 0s 20ms/step - loss: 0.6977 - accuracy: 0.8401 - val_loss: 0.6269 - val_accuracy: 0.8433\n",
      "Epoch 7/20\n",
      "14/14 [==============================] - ETA: 0s - loss: 0.6953 - accuracy: 0.84 - 0s 20ms/step - loss: 0.6950 - accuracy: 0.8401 - val_loss: 0.6401 - val_accuracy: 0.8433\n",
      "Epoch 8/20\n",
      "14/14 [==============================] - 0s 22ms/step - loss: 0.6934 - accuracy: 0.8401 - val_loss: 0.6505 - val_accuracy: 0.8433\n",
      "Epoch 9/20\n",
      "14/14 [==============================] - 0s 24ms/step - loss: 0.6924 - accuracy: 0.8401 - val_loss: 0.6588 - val_accuracy: 0.8433\n",
      "Epoch 10/20\n",
      "14/14 [==============================] - 0s 19ms/step - loss: 0.6918 - accuracy: 0.8401 - val_loss: 0.6657 - val_accuracy: 0.8433\n",
      "Epoch 11/20\n",
      "14/14 [==============================] - 0s 20ms/step - loss: 0.6914 - accuracy: 0.8401 - val_loss: 0.6712 - val_accuracy: 0.8433\n",
      "Epoch 12/20\n",
      "14/14 [==============================] - 0s 20ms/step - loss: 0.6911 - accuracy: 0.8401 - val_loss: 0.6753 - val_accuracy: 0.8433\n",
      "Epoch 13/20\n",
      "14/14 [==============================] - 0s 19ms/step - loss: 0.6910 - accuracy: 0.8401 - val_loss: 0.6786 - val_accuracy: 0.8433\n",
      "Epoch 14/20\n",
      "14/14 [==============================] - 0s 21ms/step - loss: 0.6909 - accuracy: 0.8401 - val_loss: 0.6814 - val_accuracy: 0.8433\n",
      "Epoch 15/20\n",
      "14/14 [==============================] - 0s 20ms/step - loss: 0.6908 - accuracy: 0.8401 - val_loss: 0.6833 - val_accuracy: 0.8433\n",
      "Epoch 16/20\n",
      "14/14 [==============================] - 0s 20ms/step - loss: 0.6907 - accuracy: 0.8406 - val_loss: 0.6850 - val_accuracy: 0.8443\n",
      "Epoch 17/20\n",
      "14/14 [==============================] - 0s 23ms/step - loss: 0.6907 - accuracy: 0.8430 - val_loss: 0.6862 - val_accuracy: 0.8482\n",
      "Epoch 18/20\n",
      "14/14 [==============================] - 0s 23ms/step - loss: 0.6906 - accuracy: 0.8487 - val_loss: 0.6876 - val_accuracy: 0.8562\n",
      "Epoch 19/20\n",
      "14/14 [==============================] - 0s 21ms/step - loss: 0.6906 - accuracy: 0.8542 - val_loss: 0.6880 - val_accuracy: 0.8565\n",
      "Epoch 20/20\n",
      "14/14 [==============================] - 0s 19ms/step - loss: 0.6906 - accuracy: 0.8557 - val_loss: 0.6888 - val_accuracy: 0.8613\n"
     ]
    }
   ],
   "source": [
    "# Setup some training parameters\n",
    "batch_size = 10000\n",
    "epochs = 20\n",
    "input_shape = Xtrain.shape[1]\n",
    "\n",
    "# Build and train model\n",
    "model3 = build_DNN(input_shape, n_layers = 4, n_nodes = 20, act_fun='sigmoid', optimizer='sgd', learning_rate=0.01, \n",
    "              use_bn=False, use_dropout=False, use_custom_dropout=False)\n",
    "\n",
    "history3 = model3.fit(x=Xtrain,\n",
    "                      y=Ytrain,\n",
    "                      batch_size=batch_size,\n",
    "                      epochs=epochs,\n",
    "                      verbose=\"auto\",\n",
    "                      validation_data = (Xval, Yval),\n",
    "                      class_weight=class_weights\n",
    "                     )"
   ]
  },
  {
   "cell_type": "code",
   "execution_count": 25,
   "metadata": {},
   "outputs": [
    {
     "name": "stdout",
     "output_type": "stream",
     "text": [
      "Test loss: 0.6888\n",
      "Test accuracy: 0.8608\n"
     ]
    }
   ],
   "source": [
    "# Evaluate model on test data\n",
    "score = model3.evaluate(\n",
    "    x=Xtest,\n",
    "    y=Ytest,\n",
    "    verbose=\"auto\")\n",
    "\n",
    "print('Test loss: %.4f' % score[0])\n",
    "print('Test accuracy: %.4f' % score[1])"
   ]
  },
  {
   "cell_type": "code",
   "execution_count": 26,
   "metadata": {},
   "outputs": [
    {
     "data": {
      "image/png": "[encoded data removed]",
      "text/plain": [
       "<Figure size 720x288 with 1 Axes>"
      ]
     },
     "metadata": {
      "needs_background": "light"
     },
     "output_type": "display_data"
    },
    {
     "data": {
      "image/png": "[encoded data removed]",
      "text/plain": [
       "<Figure size 720x288 with 1 Axes>"
      ]
     },
     "metadata": {
      "needs_background": "light"
     },
     "output_type": "display_data"
    }
   ],
   "source": [
    "plot_results(history3)"
   ]
  },
  {
   "cell_type": "markdown",
   "metadata": {},
   "source": [
    "### 2 layers, 50 nodes, class weights"
   ]
  },
  {
   "cell_type": "code",
   "execution_count": 27,
   "metadata": {
    "scrolled": true
   },
   "outputs": [
    {
     "name": "stdout",
     "output_type": "stream",
     "text": [
      "Layer 1\n",
      "Layer 2\n",
      "Epoch 1/20\n",
      "14/14 [==============================] - 1s 42ms/step - loss: 0.7292 - accuracy: 0.8401 - val_loss: 0.5488 - val_accuracy: 0.8433\n",
      "Epoch 2/20\n",
      "14/14 [==============================] - 0s 31ms/step - loss: 0.6873 - accuracy: 0.8400 - val_loss: 0.5940 - val_accuracy: 0.8445\n",
      "Epoch 3/20\n",
      "14/14 [==============================] - 0s 31ms/step - loss: 0.6704 - accuracy: 0.8450 - val_loss: 0.6226 - val_accuracy: 0.8552\n",
      "Epoch 4/20\n",
      "14/14 [==============================] - 0s 31ms/step - loss: 0.6613 - accuracy: 0.8602 - val_loss: 0.6376 - val_accuracy: 0.8749\n",
      "Epoch 5/20\n",
      "14/14 [==============================] - 0s 29ms/step - loss: 0.6550 - accuracy: 0.8729 - val_loss: 0.6439 - val_accuracy: 0.8764\n",
      "Epoch 6/20\n",
      "14/14 [==============================] - 0s 29ms/step - loss: 0.6495 - accuracy: 0.8749 - val_loss: 0.6442 - val_accuracy: 0.8759\n",
      "Epoch 7/20\n",
      "14/14 [==============================] - 0s 30ms/step - loss: 0.6442 - accuracy: 0.8744 - val_loss: 0.6421 - val_accuracy: 0.8747\n",
      "Epoch 8/20\n",
      "14/14 [==============================] - 0s 29ms/step - loss: 0.6390 - accuracy: 0.8731 - val_loss: 0.6391 - val_accuracy: 0.8736\n",
      "Epoch 9/20\n",
      "14/14 [==============================] - 1s 44ms/step - loss: 0.6338 - accuracy: 0.8732 - val_loss: 0.6353 - val_accuracy: 0.8752\n",
      "Epoch 10/20\n",
      "14/14 [==============================] - 1s 45ms/step - loss: 0.6285 - accuracy: 0.8745 - val_loss: 0.6305 - val_accuracy: 0.8779\n",
      "Epoch 11/20\n",
      "14/14 [==============================] - 1s 48ms/step - loss: 0.6233 - accuracy: 0.8766 - val_loss: 0.6257 - val_accuracy: 0.8789\n",
      "Epoch 12/20\n",
      "14/14 [==============================] - 1s 45ms/step - loss: 0.6180 - accuracy: 0.8773 - val_loss: 0.6199 - val_accuracy: 0.8802 0s - loss: 0.6197 - accuracy: 0.\n",
      "Epoch 13/20\n",
      "14/14 [==============================] - 1s 47ms/step - loss: 0.6127 - accuracy: 0.8789 - val_loss: 0.6158 - val_accuracy: 0.8801\n",
      "Epoch 14/20\n",
      "14/14 [==============================] - 1s 40ms/step - loss: 0.6073 - accuracy: 0.8788 - val_loss: 0.6103 - val_accuracy: 0.8811\n",
      "Epoch 15/20\n",
      "14/14 [==============================] - 0s 36ms/step - loss: 0.6019 - accuracy: 0.8799 - val_loss: 0.6044 - val_accuracy: 0.8819\n",
      "Epoch 16/20\n",
      "14/14 [==============================] - 1s 37ms/step - loss: 0.5964 - accuracy: 0.8805 - val_loss: 0.5987 - val_accuracy: 0.8823\n",
      "Epoch 17/20\n",
      "14/14 [==============================] - 0s 32ms/step - loss: 0.5909 - accuracy: 0.8808 - val_loss: 0.5934 - val_accuracy: 0.8822\n",
      "Epoch 18/20\n",
      "14/14 [==============================] - 0s 30ms/step - loss: 0.5854 - accuracy: 0.8809 - val_loss: 0.5881 - val_accuracy: 0.8821\n",
      "Epoch 19/20\n",
      "14/14 [==============================] - 0s 27ms/step - loss: 0.5798 - accuracy: 0.8813 - val_loss: 0.5825 - val_accuracy: 0.8824\n",
      "Epoch 20/20\n",
      "14/14 [==============================] - 0s 28ms/step - loss: 0.5741 - accuracy: 0.8815 - val_loss: 0.5770 - val_accuracy: 0.8825\n"
     ]
    }
   ],
   "source": [
    "# Setup some training parameters\n",
    "batch_size = 10000\n",
    "epochs = 20\n",
    "input_shape = Xtrain.shape[1]\n",
    "\n",
    "# Build and train model\n",
    "model4 = build_DNN(input_shape, n_layers = 2, n_nodes = 50, act_fun='sigmoid', optimizer='sgd', learning_rate=0.01, \n",
    "              use_bn=False, use_dropout=False, use_custom_dropout=False)\n",
    "\n",
    "history4 = model4.fit(x=Xtrain,\n",
    "                      y=Ytrain,\n",
    "                      batch_size=batch_size,\n",
    "                      epochs=epochs,\n",
    "                      verbose=\"auto\",\n",
    "                      validation_data = (Xval, Yval),\n",
    "                      class_weight=class_weights\n",
    "                     )"
   ]
  },
  {
   "cell_type": "code",
   "execution_count": 28,
   "metadata": {},
   "outputs": [
    {
     "name": "stdout",
     "output_type": "stream",
     "text": [
      "Test loss: 0.5769\n",
      "Test accuracy: 0.8817\n"
     ]
    }
   ],
   "source": [
    "# Evaluate model on test data\n",
    "score = model4.evaluate(\n",
    "    x=Xtest,\n",
    "    y=Ytest,\n",
    "    verbose=\"auto\")\n",
    "\n",
    "print('Test loss: %.4f' % score[0])\n",
    "print('Test accuracy: %.4f' % score[1])"
   ]
  },
  {
   "cell_type": "code",
   "execution_count": 29,
   "metadata": {},
   "outputs": [
    {
     "data": {
      "image/png": "[encoded data removed]",
      "text/plain": [
       "<Figure size 720x288 with 1 Axes>"
      ]
     },
     "metadata": {
      "needs_background": "light"
     },
     "output_type": "display_data"
    },
    {
     "data": {
      "image/png": "[encoded data removed]",
      "text/plain": [
       "<Figure size 720x288 with 1 Axes>"
      ]
     },
     "metadata": {
      "needs_background": "light"
     },
     "output_type": "display_data"
    }
   ],
   "source": [
    "plot_results(history4)"
   ]
  },
  {
   "cell_type": "markdown",
   "metadata": {},
   "source": [
    "### 4 layers, 50 nodes, class weights"
   ]
  },
  {
   "cell_type": "code",
   "execution_count": 30,
   "metadata": {
    "scrolled": true
   },
   "outputs": [
    {
     "name": "stdout",
     "output_type": "stream",
     "text": [
      "Layer 1\n",
      "Layer 2\n",
      "Layer 3\n",
      "Layer 4\n",
      "Epoch 1/20\n",
      "14/14 [==============================] - 1s 60ms/step - loss: 0.7526 - accuracy: 0.1599 - val_loss: 0.9004 - val_accuracy: 0.1567\n",
      "Epoch 2/20\n",
      "14/14 [==============================] - 1s 45ms/step - loss: 0.7138 - accuracy: 0.1599 - val_loss: 0.8065 - val_accuracy: 0.1567\n",
      "Epoch 3/20\n",
      "14/14 [==============================] - 1s 43ms/step - loss: 0.7000 - accuracy: 0.1599 - val_loss: 0.7557 - val_accuracy: 0.1567\n",
      "Epoch 4/20\n",
      "14/14 [==============================] - 1s 46ms/step - loss: 0.6952 - accuracy: 0.1599 - val_loss: 0.7287 - val_accuracy: 0.1567\n",
      "Epoch 5/20\n",
      "14/14 [==============================] - 1s 46ms/step - loss: 0.6936 - accuracy: 0.1599 - val_loss: 0.7126 - val_accuracy: 0.1567\n",
      "Epoch 6/20\n",
      "14/14 [==============================] - 1s 47ms/step - loss: 0.6930 - accuracy: 0.1599 - val_loss: 0.7035 - val_accuracy: 0.1567\n",
      "Epoch 7/20\n",
      "14/14 [==============================] - 1s 44ms/step - loss: 0.6928 - accuracy: 0.1599 - val_loss: 0.6993 - val_accuracy: 0.1567\n",
      "Epoch 8/20\n",
      "14/14 [==============================] - 1s 43ms/step - loss: 0.6927 - accuracy: 0.1600 - val_loss: 0.6959 - val_accuracy: 0.1567\n",
      "Epoch 9/20\n",
      "14/14 [==============================] - 1s 44ms/step - loss: 0.6927 - accuracy: 0.1602 - val_loss: 0.6940 - val_accuracy: 0.1584\n",
      "Epoch 10/20\n",
      "14/14 [==============================] - 1s 44ms/step - loss: 0.6926 - accuracy: 0.2013 - val_loss: 0.6944 - val_accuracy: 0.1576\n",
      "Epoch 11/20\n",
      "14/14 [==============================] - 1s 43ms/step - loss: 0.6926 - accuracy: 0.1637 - val_loss: 0.6940 - val_accuracy: 0.1586\n",
      "Epoch 12/20\n",
      "14/14 [==============================] - 1s 50ms/step - loss: 0.6926 - accuracy: 0.1684 - val_loss: 0.6928 - val_accuracy: 0.8083\n",
      "Epoch 13/20\n",
      "14/14 [==============================] - 1s 49ms/step - loss: 0.6926 - accuracy: 0.8420 - val_loss: 0.6942 - val_accuracy: 0.1579\n",
      "Epoch 14/20\n",
      "14/14 [==============================] - 1s 45ms/step - loss: 0.6925 - accuracy: 0.1685 - val_loss: 0.6934 - val_accuracy: 0.2068\n",
      "Epoch 15/20\n",
      "14/14 [==============================] - 1s 43ms/step - loss: 0.6925 - accuracy: 0.4594 - val_loss: 0.6932 - val_accuracy: 0.4158\n",
      "Epoch 16/20\n",
      "14/14 [==============================] - 1s 42ms/step - loss: 0.6925 - accuracy: 0.6045 - val_loss: 0.6927 - val_accuracy: 0.8248\n",
      "Epoch 17/20\n",
      "14/14 [==============================] - 1s 42ms/step - loss: 0.6925 - accuracy: 0.5730 - val_loss: 0.6924 - val_accuracy: 0.8531\n",
      "Epoch 18/20\n",
      "14/14 [==============================] - 1s 47ms/step - loss: 0.6924 - accuracy: 0.8196 - val_loss: 0.6917 - val_accuracy: 0.8583\n",
      "Epoch 19/20\n",
      "14/14 [==============================] - 1s 42ms/step - loss: 0.6924 - accuracy: 0.8542 - val_loss: 0.6926 - val_accuracy: 0.8434\n",
      "Epoch 20/20\n",
      "14/14 [==============================] - 1s 41ms/step - loss: 0.6924 - accuracy: 0.8165 - val_loss: 0.6923 - val_accuracy: 0.8573\n"
     ]
    }
   ],
   "source": [
    "# Setup some training parameters\n",
    "batch_size = 10000\n",
    "epochs = 20\n",
    "input_shape = Xtrain.shape[1]\n",
    "\n",
    "# Build and train model\n",
    "model5 = build_DNN(input_shape, n_layers = 4, n_nodes = 50, act_fun='sigmoid', optimizer='sgd', learning_rate=0.01, \n",
    "              use_bn=False, use_dropout=False, use_custom_dropout=False)\n",
    "\n",
    "history5 = model5.fit(x=Xtrain,\n",
    "                      y=Ytrain,\n",
    "                      batch_size=batch_size,\n",
    "                      epochs=epochs,\n",
    "                      verbose=\"auto\",\n",
    "                      validation_data = (Xval, Yval),\n",
    "                      class_weight=class_weights\n",
    "                     )"
   ]
  },
  {
   "cell_type": "code",
   "execution_count": 31,
   "metadata": {},
   "outputs": [
    {
     "name": "stdout",
     "output_type": "stream",
     "text": [
      "Model: \"sequential_5\"\n",
      "_________________________________________________________________\n",
      " Layer (type)                Output Shape              Param #   \n",
      "=================================================================\n",
      " dense_17 (Dense)            (None, 50)                4650      \n",
      "                                                                 \n",
      " dense_18 (Dense)            (None, 50)                2550      \n",
      "                                                                 \n",
      " dense_19 (Dense)            (None, 50)                2550      \n",
      "                                                                 \n",
      " dense_20 (Dense)            (None, 50)                2550      \n",
      "                                                                 \n",
      " dense_21 (Dense)            (None, 1)                 51        \n",
      "                                                                 \n",
      "=================================================================\n",
      "Total params: 12,351\n",
      "Trainable params: 12,351\n",
      "Non-trainable params: 0\n",
      "_________________________________________________________________\n"
     ]
    }
   ],
   "source": [
    "model5.summary()"
   ]
  },
  {
   "cell_type": "code",
   "execution_count": 32,
   "metadata": {},
   "outputs": [
    {
     "name": "stdout",
     "output_type": "stream",
     "text": [
      "Test loss: 0.6923\n",
      "Test accuracy: 0.8559\n"
     ]
    }
   ],
   "source": [
    "# Evaluate model on test data\n",
    "score = model5.evaluate(\n",
    "    x=Xtest,\n",
    "    y=Ytest,\n",
    "    verbose=\"auto\")\n",
    "\n",
    "print('Test loss: %.4f' % score[0])\n",
    "print('Test accuracy: %.4f' % score[1])"
   ]
  },
  {
   "cell_type": "code",
   "execution_count": 33,
   "metadata": {},
   "outputs": [
    {
     "data": {
      "image/png": "[encoded data removed]",
      "text/plain": [
       "<Figure size 720x288 with 1 Axes>"
      ]
     },
     "metadata": {
      "needs_background": "light"
     },
     "output_type": "display_data"
    },
    {
     "data": {
      "image/png": "[encoded data removed]",
      "text/plain": [
       "<Figure size 720x288 with 1 Axes>"
      ]
     },
     "metadata": {
      "needs_background": "light"
     },
     "output_type": "display_data"
    }
   ],
   "source": [
    "plot_results(history5)"
   ]
  },
  {
   "cell_type": "markdown",
   "metadata": {},
   "source": [
    "# Part 15: Batch normalization\n",
    "\n",
    "Now add batch normalization after each dense layer in `build_DNN`. Remember to import BatchNormalization from keras.layers. \n",
    "\n",
    "See https://keras.io/layers/normalization/ for information about how to call the function.\n",
    "\n",
    "Question 14: Why is batch normalization important when training deep networks?"
   ]
  },
  {
   "cell_type": "markdown",
   "metadata": {},
   "source": [
    "### 2 layers, 20 nodes, class weights, batch normalization"
   ]
  },
  {
   "cell_type": "code",
   "execution_count": 34,
   "metadata": {
    "scrolled": true
   },
   "outputs": [
    {
     "name": "stdout",
     "output_type": "stream",
     "text": [
      "Layer 1\n",
      "Layer 2\n",
      "Epoch 1/20\n",
      "14/14 [==============================] - 2s 44ms/step - loss: 0.5649 - accuracy: 0.7265 - val_loss: 0.7884 - val_accuracy: 0.1564\n",
      "Epoch 2/20\n",
      "14/14 [==============================] - 0s 25ms/step - loss: 0.3959 - accuracy: 0.8135 - val_loss: 0.7539 - val_accuracy: 0.1567\n",
      "Epoch 3/20\n",
      "14/14 [==============================] - 0s 29ms/step - loss: 0.3720 - accuracy: 0.8249 - val_loss: 0.7265 - val_accuracy: 0.1570\n",
      "Epoch 4/20\n",
      "14/14 [==============================] - 0s 26ms/step - loss: 0.3593 - accuracy: 0.8324 - val_loss: 0.7027 - val_accuracy: 0.1574\n",
      "Epoch 5/20\n",
      "14/14 [==============================] - 0s 24ms/step - loss: 0.3500 - accuracy: 0.8382 - val_loss: 0.6808 - val_accuracy: 0.7897\n",
      "Epoch 6/20\n",
      "14/14 [==============================] - 0s 24ms/step - loss: 0.3421 - accuracy: 0.8435 - val_loss: 0.6602 - val_accuracy: 0.8321\n",
      "Epoch 7/20\n",
      "14/14 [==============================] - 0s 23ms/step - loss: 0.3352 - accuracy: 0.8485 - val_loss: 0.6406 - val_accuracy: 0.8520\n",
      "Epoch 8/20\n",
      "14/14 [==============================] - 0s 23ms/step - loss: 0.3289 - accuracy: 0.8535 - val_loss: 0.6216 - val_accuracy: 0.8699\n",
      "Epoch 9/20\n",
      "14/14 [==============================] - 0s 25ms/step - loss: 0.3230 - accuracy: 0.8593 - val_loss: 0.6030 - val_accuracy: 0.8755\n",
      "Epoch 10/20\n",
      "14/14 [==============================] - ETA: 0s - loss: 0.3180 - accuracy: 0.86 - 0s 29ms/step - loss: 0.3176 - accuracy: 0.8636 - val_loss: 0.5848 - val_accuracy: 0.8787\n",
      "Epoch 11/20\n",
      "14/14 [==============================] - 0s 24ms/step - loss: 0.3125 - accuracy: 0.8667 - val_loss: 0.5668 - val_accuracy: 0.8802\n",
      "Epoch 12/20\n",
      "14/14 [==============================] - 0s 27ms/step - loss: 0.3078 - accuracy: 0.8690 - val_loss: 0.5491 - val_accuracy: 0.8810\n",
      "Epoch 13/20\n",
      "14/14 [==============================] - 0s 24ms/step - loss: 0.3033 - accuracy: 0.8710 - val_loss: 0.5317 - val_accuracy: 0.8815\n",
      "Epoch 14/20\n",
      "14/14 [==============================] - 0s 24ms/step - loss: 0.2990 - accuracy: 0.8729 - val_loss: 0.5146 - val_accuracy: 0.8816\n",
      "Epoch 15/20\n",
      "14/14 [==============================] - 0s 24ms/step - loss: 0.2950 - accuracy: 0.8743 - val_loss: 0.4978 - val_accuracy: 0.8818\n",
      "Epoch 16/20\n",
      "14/14 [==============================] - 0s 24ms/step - loss: 0.2912 - accuracy: 0.8758 - val_loss: 0.4814 - val_accuracy: 0.8820\n",
      "Epoch 17/20\n",
      "14/14 [==============================] - 0s 25ms/step - loss: 0.2877 - accuracy: 0.8769 - val_loss: 0.4657 - val_accuracy: 0.8820\n",
      "Epoch 18/20\n",
      "14/14 [==============================] - 0s 25ms/step - loss: 0.2843 - accuracy: 0.8780 - val_loss: 0.4507 - val_accuracy: 0.8819\n",
      "Epoch 19/20\n",
      "14/14 [==============================] - 0s 25ms/step - loss: 0.2811 - accuracy: 0.8792 - val_loss: 0.4366 - val_accuracy: 0.8822\n",
      "Epoch 20/20\n",
      "14/14 [==============================] - 0s 27ms/step - loss: 0.2781 - accuracy: 0.8801 - val_loss: 0.4234 - val_accuracy: 0.8824\n"
     ]
    }
   ],
   "source": [
    "# Setup some training parameters\n",
    "batch_size = 10000\n",
    "epochs = 20\n",
    "input_shape = Xtrain.shape[1]\n",
    "\n",
    "# Build and train model\n",
    "model6 = build_DNN(input_shape, n_layers = 2, n_nodes = 20, act_fun='sigmoid', optimizer='sgd', learning_rate=0.01, \n",
    "              use_bn=True, use_dropout=False, use_custom_dropout=False)\n",
    "\n",
    "history6 = model6.fit(x=Xtrain,\n",
    "                      y=Ytrain,\n",
    "                      batch_size=batch_size,\n",
    "                      epochs=epochs,\n",
    "                      verbose=\"auto\",\n",
    "                      validation_data = (Xval, Yval),\n",
    "                      class_weight=class_weights\n",
    "                     )"
   ]
  },
  {
   "cell_type": "code",
   "execution_count": 35,
   "metadata": {},
   "outputs": [
    {
     "name": "stdout",
     "output_type": "stream",
     "text": [
      "Test loss: 0.4235\n",
      "Test accuracy: 0.8813\n"
     ]
    }
   ],
   "source": [
    "# Evaluate model on test data\n",
    "score = model6.evaluate(\n",
    "    x=Xtest,\n",
    "    y=Ytest,\n",
    "    verbose=\"auto\")\n",
    "\n",
    "print('Test loss: %.4f' % score[0])\n",
    "print('Test accuracy: %.4f' % score[1])"
   ]
  },
  {
   "cell_type": "code",
   "execution_count": 36,
   "metadata": {},
   "outputs": [
    {
     "data": {
      "image/png": "[encoded data removed]",
      "text/plain": [
       "<Figure size 720x288 with 1 Axes>"
      ]
     },
     "metadata": {
      "needs_background": "light"
     },
     "output_type": "display_data"
    },
    {
     "data": {
      "image/png": "[encoded data removed]",
      "text/plain": [
       "<Figure size 720x288 with 1 Axes>"
      ]
     },
     "metadata": {
      "needs_background": "light"
     },
     "output_type": "display_data"
    }
   ],
   "source": [
    "plot_results(history6)"
   ]
  },
  {
   "cell_type": "markdown",
   "metadata": {},
   "source": [
    "# Part 16: Activation function\n",
    "\n",
    "Try changing the activation function in each layer from sigmoid to ReLU, write down the test accuracy.\n",
    "\n",
    "Note: the last layer should still have a sigmoid activation function.\n",
    "\n",
    "https://keras.io/api/layers/activations/"
   ]
  },
  {
   "cell_type": "markdown",
   "metadata": {},
   "source": [
    "### 2 layers, 20 nodes, class weights, ReLU, no batch normalization"
   ]
  },
  {
   "cell_type": "code",
   "execution_count": 37,
   "metadata": {
    "scrolled": true
   },
   "outputs": [
    {
     "name": "stdout",
     "output_type": "stream",
     "text": [
      "Layer 1\n",
      "Layer 2\n",
      "Epoch 1/20\n",
      "14/14 [==============================] - 1s 32ms/step - loss: 1.0291 - accuracy: 0.7892 - val_loss: 0.6585 - val_accuracy: 0.8442\n",
      "Epoch 2/20\n",
      "14/14 [==============================] - 0s 16ms/step - loss: 0.6957 - accuracy: 0.8525 - val_loss: 0.5717 - val_accuracy: 0.8623\n",
      "Epoch 3/20\n",
      "14/14 [==============================] - 0s 16ms/step - loss: 0.5533 - accuracy: 0.8689 - val_loss: 0.5129 - val_accuracy: 0.8734\n",
      "Epoch 4/20\n",
      "14/14 [==============================] - 0s 16ms/step - loss: 0.4697 - accuracy: 0.8748 - val_loss: 0.4737 - val_accuracy: 0.8761\n",
      "Epoch 5/20\n",
      "14/14 [==============================] - 0s 24ms/step - loss: 0.4175 - accuracy: 0.8769 - val_loss: 0.4430 - val_accuracy: 0.8768\n",
      "Epoch 6/20\n",
      "14/14 [==============================] - 0s 15ms/step - loss: 0.3806 - accuracy: 0.8776 - val_loss: 0.4189 - val_accuracy: 0.8772\n",
      "Epoch 7/20\n",
      "14/14 [==============================] - 0s 15ms/step - loss: 0.3532 - accuracy: 0.8779 - val_loss: 0.4000 - val_accuracy: 0.8773\n",
      "Epoch 8/20\n",
      "14/14 [==============================] - 0s 15ms/step - loss: 0.3322 - accuracy: 0.8782 - val_loss: 0.3847 - val_accuracy: 0.8776\n",
      "Epoch 9/20\n",
      "14/14 [==============================] - 0s 15ms/step - loss: 0.3156 - accuracy: 0.8785 - val_loss: 0.3717 - val_accuracy: 0.8779\n",
      "Epoch 10/20\n",
      "14/14 [==============================] - 0s 15ms/step - loss: 0.3021 - accuracy: 0.8787 - val_loss: 0.3607 - val_accuracy: 0.8782\n",
      "Epoch 11/20\n",
      "14/14 [==============================] - 0s 15ms/step - loss: 0.2910 - accuracy: 0.8789 - val_loss: 0.3510 - val_accuracy: 0.8783\n",
      "Epoch 12/20\n",
      "14/14 [==============================] - 0s 15ms/step - loss: 0.2816 - accuracy: 0.8790 - val_loss: 0.3424 - val_accuracy: 0.8787\n",
      "Epoch 13/20\n",
      "14/14 [==============================] - 0s 15ms/step - loss: 0.2738 - accuracy: 0.8793 - val_loss: 0.3353 - val_accuracy: 0.8788\n",
      "Epoch 14/20\n",
      "14/14 [==============================] - 0s 16ms/step - loss: 0.2670 - accuracy: 0.8793 - val_loss: 0.3286 - val_accuracy: 0.8790\n",
      "Epoch 15/20\n",
      "14/14 [==============================] - 0s 20ms/step - loss: 0.2612 - accuracy: 0.8794 - val_loss: 0.3226 - val_accuracy: 0.8791\n",
      "Epoch 16/20\n",
      "14/14 [==============================] - 0s 17ms/step - loss: 0.2562 - accuracy: 0.8795 - val_loss: 0.3173 - val_accuracy: 0.8791\n",
      "Epoch 17/20\n",
      "14/14 [==============================] - 0s 15ms/step - loss: 0.2517 - accuracy: 0.8796 - val_loss: 0.3126 - val_accuracy: 0.8791\n",
      "Epoch 18/20\n",
      "14/14 [==============================] - 0s 16ms/step - loss: 0.2478 - accuracy: 0.8796 - val_loss: 0.3085 - val_accuracy: 0.8792\n",
      "Epoch 19/20\n",
      "14/14 [==============================] - 0s 15ms/step - loss: 0.2444 - accuracy: 0.8796 - val_loss: 0.3052 - val_accuracy: 0.8792\n",
      "Epoch 20/20\n",
      "14/14 [==============================] - 0s 15ms/step - loss: 0.2413 - accuracy: 0.8797 - val_loss: 0.3020 - val_accuracy: 0.8793\n"
     ]
    }
   ],
   "source": [
    "# Setup some training parameters\n",
    "batch_size = 10000\n",
    "epochs = 20\n",
    "input_shape = Xtrain.shape[1]\n",
    "\n",
    "# Build and train model\n",
    "model7 = build_DNN(input_shape, n_layers = 2, n_nodes = 20, act_fun='relu', optimizer='sgd', learning_rate=0.01, \n",
    "              use_bn=False, use_dropout=False, use_custom_dropout=False)\n",
    "\n",
    "history7 = model7.fit(x=Xtrain,\n",
    "                      y=Ytrain,\n",
    "                      batch_size=batch_size,\n",
    "                      epochs=epochs,\n",
    "                      verbose=\"auto\",\n",
    "                      validation_data = (Xval, Yval),\n",
    "                      class_weight=class_weights\n",
    "                     )"
   ]
  },
  {
   "cell_type": "code",
   "execution_count": 38,
   "metadata": {},
   "outputs": [
    {
     "name": "stdout",
     "output_type": "stream",
     "text": [
      "Test loss: 0.3033\n",
      "Test accuracy: 0.8779\n"
     ]
    }
   ],
   "source": [
    "# Evaluate model on test data\n",
    "score = model7.evaluate(\n",
    "    x=Xtest,\n",
    "    y=Ytest,\n",
    "    verbose=\"auto\")\n",
    "\n",
    "print('Test loss: %.4f' % score[0])\n",
    "print('Test accuracy: %.4f' % score[1])"
   ]
  },
  {
   "cell_type": "code",
   "execution_count": 39,
   "metadata": {},
   "outputs": [
    {
     "data": {
      "image/png": "[encoded data removed]",
      "text/plain": [
       "<Figure size 720x288 with 1 Axes>"
      ]
     },
     "metadata": {
      "needs_background": "light"
     },
     "output_type": "display_data"
    },
    {
     "data": {
      "image/png": "[encoded data removed]",
      "text/plain": [
       "<Figure size 720x288 with 1 Axes>"
      ]
     },
     "metadata": {
      "needs_background": "light"
     },
     "output_type": "display_data"
    }
   ],
   "source": [
    "plot_results(history7)"
   ]
  },
  {
   "cell_type": "markdown",
   "metadata": {},
   "source": [
    "# Part 17: Optimizer\n",
    "\n",
    "Try changing the optimizer from SGD to Adam (with learning rate 0.1 as before). Remember to import the Adam optimizer from keras.optimizers. \n",
    "\n",
    "https://keras.io/optimizers/\n"
   ]
  },
  {
   "cell_type": "markdown",
   "metadata": {},
   "source": [
    "### 2 layers, 20 nodes, class weights, Adam optimizer, no batch normalization, sigmoid activations"
   ]
  },
  {
   "cell_type": "code",
   "execution_count": 43,
   "metadata": {
    "scrolled": true
   },
   "outputs": [
    {
     "name": "stdout",
     "output_type": "stream",
     "text": [
      "Layer 1\n",
      "Layer 2\n",
      "Epoch 1/20\n",
      "14/14 [==============================] - 1s 30ms/step - loss: 0.5192 - accuracy: 0.8662 - val_loss: 0.3437 - val_accuracy: 0.8810\n",
      "Epoch 2/20\n",
      "14/14 [==============================] - 0s 17ms/step - loss: 0.2582 - accuracy: 0.8811 - val_loss: 0.3008 - val_accuracy: 0.8828\n",
      "Epoch 3/20\n",
      "14/14 [==============================] - 0s 17ms/step - loss: 0.2167 - accuracy: 0.8838 - val_loss: 0.2549 - val_accuracy: 0.8870\n",
      "Epoch 4/20\n",
      "14/14 [==============================] - 0s 17ms/step - loss: 0.2026 - accuracy: 0.8905 - val_loss: 0.2464 - val_accuracy: 0.8929\n",
      "Epoch 5/20\n",
      "14/14 [==============================] - 0s 17ms/step - loss: 0.1917 - accuracy: 0.8972 - val_loss: 0.2323 - val_accuracy: 0.9026\n",
      "Epoch 6/20\n",
      "14/14 [==============================] - 0s 18ms/step - loss: 0.1833 - accuracy: 0.9058 - val_loss: 0.2285 - val_accuracy: 0.9088\n",
      "Epoch 7/20\n",
      "14/14 [==============================] - 0s 22ms/step - loss: 0.1784 - accuracy: 0.9106 - val_loss: 0.2271 - val_accuracy: 0.9110\n",
      "Epoch 8/20\n",
      "14/14 [==============================] - 0s 18ms/step - loss: 0.1756 - accuracy: 0.9119 - val_loss: 0.2201 - val_accuracy: 0.9123\n",
      "Epoch 9/20\n",
      "14/14 [==============================] - 0s 17ms/step - loss: 0.1737 - accuracy: 0.9128 - val_loss: 0.2181 - val_accuracy: 0.9130\n",
      "Epoch 10/20\n",
      "14/14 [==============================] - 0s 17ms/step - loss: 0.1719 - accuracy: 0.9136 - val_loss: 0.2194 - val_accuracy: 0.9137\n",
      "Epoch 11/20\n",
      "14/14 [==============================] - 0s 17ms/step - loss: 0.1702 - accuracy: 0.9143 - val_loss: 0.2165 - val_accuracy: 0.9143\n",
      "Epoch 12/20\n",
      "14/14 [==============================] - 0s 18ms/step - loss: 0.1686 - accuracy: 0.9150 - val_loss: 0.2156 - val_accuracy: 0.9146\n",
      "Epoch 13/20\n",
      "14/14 [==============================] - 0s 17ms/step - loss: 0.1674 - accuracy: 0.9152 - val_loss: 0.2125 - val_accuracy: 0.9150\n",
      "Epoch 14/20\n",
      "14/14 [==============================] - 0s 17ms/step - loss: 0.1665 - accuracy: 0.9153 - val_loss: 0.2120 - val_accuracy: 0.9150\n",
      "Epoch 15/20\n",
      "14/14 [==============================] - 0s 16ms/step - loss: 0.1655 - accuracy: 0.9155 - val_loss: 0.2096 - val_accuracy: 0.9152\n",
      "Epoch 16/20\n",
      "14/14 [==============================] - 0s 16ms/step - loss: 0.1645 - accuracy: 0.9156 - val_loss: 0.2095 - val_accuracy: 0.9153\n",
      "Epoch 17/20\n",
      "14/14 [==============================] - 0s 17ms/step - loss: 0.1638 - accuracy: 0.9157 - val_loss: 0.2116 - val_accuracy: 0.9153\n",
      "Epoch 18/20\n",
      "14/14 [==============================] - 0s 25ms/step - loss: 0.1630 - accuracy: 0.9158 - val_loss: 0.2100 - val_accuracy: 0.9154\n",
      "Epoch 19/20\n",
      "14/14 [==============================] - 0s 18ms/step - loss: 0.1626 - accuracy: 0.9160 - val_loss: 0.1986 - val_accuracy: 0.9158\n",
      "Epoch 20/20\n",
      "14/14 [==============================] - 0s 15ms/step - loss: 0.1617 - accuracy: 0.9162 - val_loss: 0.2051 - val_accuracy: 0.9157\n"
     ]
    }
   ],
   "source": [
    "# Setup some training parameters\n",
    "batch_size = 10000\n",
    "epochs = 20\n",
    "input_shape = Xtrain.shape[1]\n",
    "\n",
    "# Build and train model\n",
    "model8 = build_DNN(input_shape, n_layers = 2, n_nodes = 20, act_fun='sigmoid', optimizer='adam', learning_rate=0.01, \n",
    "              use_bn=False, use_dropout=False, use_custom_dropout=False)\n",
    "\n",
    "history8 = model8.fit(x=Xtrain,\n",
    "                      y=Ytrain,\n",
    "                      batch_size=batch_size,\n",
    "                      epochs=epochs,\n",
    "                      verbose=\"auto\",\n",
    "                      validation_data = (Xval, Yval),\n",
    "                      class_weight=class_weights\n",
    "                     )"
   ]
  },
  {
   "cell_type": "code",
   "execution_count": 44,
   "metadata": {},
   "outputs": [
    {
     "name": "stdout",
     "output_type": "stream",
     "text": [
      "Test loss: 0.2033\n",
      "Test accuracy: 0.9166\n"
     ]
    }
   ],
   "source": [
    "# Evaluate model on test data\n",
    "score = model8.evaluate(\n",
    "    x=Xtest,\n",
    "    y=Ytest,\n",
    "    verbose=\"auto\")\n",
    "\n",
    "print('Test loss: %.4f' % score[0])\n",
    "print('Test accuracy: %.4f' % score[1])"
   ]
  },
  {
   "cell_type": "code",
   "execution_count": 45,
   "metadata": {},
   "outputs": [
    {
     "data": {
      "image/png": "[encoded data removed]",
      "text/plain": [
       "<Figure size 720x288 with 1 Axes>"
      ]
     },
     "metadata": {
      "needs_background": "light"
     },
     "output_type": "display_data"
    },
    {
     "data": {
      "image/png": "[encoded data removed]",
      "text/plain": [
       "<Figure size 720x288 with 1 Axes>"
      ]
     },
     "metadata": {
      "needs_background": "light"
     },
     "output_type": "display_data"
    }
   ],
   "source": [
    "plot_results(history8)"
   ]
  },
  {
   "cell_type": "markdown",
   "metadata": {},
   "source": [
    "# Part 18: Dropout regularization\n",
    "\n",
    "Dropout is a type of regularization that can improve accuracy for validation and test data. It randomly removes connections to force the neural network to not rely too much on a small number of weights.\n",
    "\n",
    "Add a Dropout layer after each Dense layer (but not after the final dense layer) in `build_DNN`, with a dropout probability of 50%. Remember to first import the Dropout layer from keras.layers\n",
    "\n",
    "See https://keras.io/api/layers/regularization_layers/dropout/ for how the Dropout layer works.\n",
    "\n",
    "---\n",
    "\n",
    "Question 15: How does the validation accuracy change when adding dropout?\n",
    "\n",
    "Question 16: How does the test accuracy change when adding dropout?"
   ]
  },
  {
   "cell_type": "markdown",
   "metadata": {},
   "source": [
    "### 2 layers, 20 nodes, class weights, dropout, SGD optimizer, no batch normalization, sigmoid activations"
   ]
  },
  {
   "cell_type": "code",
   "execution_count": 46,
   "metadata": {
    "scrolled": true
   },
   "outputs": [
    {
     "name": "stdout",
     "output_type": "stream",
     "text": [
      "Layer 1\n",
      "Layer 2\n",
      "Epoch 1/20\n",
      "14/14 [==============================] - 1s 38ms/step - loss: 0.7706 - accuracy: 0.3712 - val_loss: 0.8337 - val_accuracy: 0.1567\n",
      "Epoch 2/20\n",
      "14/14 [==============================] - 0s 27ms/step - loss: 0.7595 - accuracy: 0.4029 - val_loss: 0.7931 - val_accuracy: 0.1567\n",
      "Epoch 3/20\n",
      "14/14 [==============================] - 0s 27ms/step - loss: 0.7505 - accuracy: 0.4253 - val_loss: 0.7620 - val_accuracy: 0.1567\n",
      "Epoch 4/20\n",
      "14/14 [==============================] - 0s 25ms/step - loss: 0.7434 - accuracy: 0.4485 - val_loss: 0.7383 - val_accuracy: 0.1567\n",
      "Epoch 5/20\n",
      "14/14 [==============================] - 0s 27ms/step - loss: 0.7379 - accuracy: 0.4642 - val_loss: 0.7193 - val_accuracy: 0.1568\n",
      "Epoch 6/20\n",
      "14/14 [==============================] - 0s 25ms/step - loss: 0.7343 - accuracy: 0.4779 - val_loss: 0.7040 - val_accuracy: 0.1569\n",
      "Epoch 7/20\n",
      "14/14 [==============================] - 0s 24ms/step - loss: 0.7299 - accuracy: 0.4936 - val_loss: 0.6926 - val_accuracy: 0.2971\n",
      "Epoch 8/20\n",
      "14/14 [==============================] - 0s 24ms/step - loss: 0.7276 - accuracy: 0.5025 - val_loss: 0.6836 - val_accuracy: 0.8565\n",
      "Epoch 9/20\n",
      "14/14 [==============================] - 0s 24ms/step - loss: 0.7222 - accuracy: 0.5102 - val_loss: 0.6756 - val_accuracy: 0.8674\n",
      "Epoch 10/20\n",
      "14/14 [==============================] - 0s 23ms/step - loss: 0.7214 - accuracy: 0.5194 - val_loss: 0.6698 - val_accuracy: 0.8733\n",
      "Epoch 11/20\n",
      "14/14 [==============================] - 0s 24ms/step - loss: 0.7183 - accuracy: 0.5218 - val_loss: 0.6647 - val_accuracy: 0.8767\n",
      "Epoch 12/20\n",
      "14/14 [==============================] - 0s 24ms/step - loss: 0.7175 - accuracy: 0.5276 - val_loss: 0.6609 - val_accuracy: 0.8798\n",
      "Epoch 13/20\n",
      "14/14 [==============================] - 0s 24ms/step - loss: 0.7132 - accuracy: 0.5329 - val_loss: 0.6570 - val_accuracy: 0.8855\n",
      "Epoch 14/20\n",
      "14/14 [==============================] - 0s 24ms/step - loss: 0.7085 - accuracy: 0.5390 - val_loss: 0.6535 - val_accuracy: 0.8872\n",
      "Epoch 15/20\n",
      "14/14 [==============================] - 0s 30ms/step - loss: 0.7089 - accuracy: 0.5411 - val_loss: 0.6507 - val_accuracy: 0.8872\n",
      "Epoch 16/20\n",
      "14/14 [==============================] - 0s 24ms/step - loss: 0.7068 - accuracy: 0.5421 - val_loss: 0.6479 - val_accuracy: 0.8880\n",
      "Epoch 17/20\n",
      "14/14 [==============================] - 0s 26ms/step - loss: 0.7044 - accuracy: 0.5447 - val_loss: 0.6453 - val_accuracy: 0.8886\n",
      "Epoch 18/20\n",
      "14/14 [==============================] - 0s 24ms/step - loss: 0.7013 - accuracy: 0.5495 - val_loss: 0.6431 - val_accuracy: 0.8891\n",
      "Epoch 19/20\n",
      "14/14 [==============================] - 0s 24ms/step - loss: 0.6969 - accuracy: 0.5522 - val_loss: 0.6411 - val_accuracy: 0.8898\n",
      "Epoch 20/20\n",
      "14/14 [==============================] - 0s 24ms/step - loss: 0.6967 - accuracy: 0.5549 - val_loss: 0.6396 - val_accuracy: 0.8897\n"
     ]
    }
   ],
   "source": [
    "# Setup some training parameters\n",
    "batch_size = 10000\n",
    "epochs = 20\n",
    "input_shape = Xtrain.shape[1]\n",
    "\n",
    "# Build and train model\n",
    "model9 = build_DNN(input_shape, n_layers = 2, n_nodes = 20, act_fun='sigmoid', optimizer='sgd', learning_rate=0.01, \n",
    "              use_bn=False, use_dropout=True, use_custom_dropout=False)\n",
    "\n",
    "history9 = model9.fit(x=Xtrain,\n",
    "                      y=Ytrain,\n",
    "                      batch_size=batch_size,\n",
    "                      epochs=epochs,\n",
    "                      verbose=\"auto\",\n",
    "                      validation_data = (Xval, Yval),\n",
    "                      class_weight=class_weights\n",
    "                     )"
   ]
  },
  {
   "cell_type": "code",
   "execution_count": 47,
   "metadata": {},
   "outputs": [
    {
     "name": "stdout",
     "output_type": "stream",
     "text": [
      "Test loss: 0.6398\n",
      "Test accuracy: 0.8862\n"
     ]
    }
   ],
   "source": [
    "# Evaluate model on test data\n",
    "score = model9.evaluate(\n",
    "    x=Xtest,\n",
    "    y=Ytest,\n",
    "    verbose=\"auto\")\n",
    "\n",
    "print('Test loss: %.4f' % score[0])\n",
    "print('Test accuracy: %.4f' % score[1])"
   ]
  },
  {
   "cell_type": "code",
   "execution_count": 48,
   "metadata": {},
   "outputs": [
    {
     "data": {
      "image/png": "[encoded data removed]",
      "text/plain": [
       "<Figure size 720x288 with 1 Axes>"
      ]
     },
     "metadata": {
      "needs_background": "light"
     },
     "output_type": "display_data"
    },
    {
     "data": {
      "image/png": "[encoded data removed]",
      "text/plain": [
       "<Figure size 720x288 with 1 Axes>"
      ]
     },
     "metadata": {
      "needs_background": "light"
     },
     "output_type": "display_data"
    }
   ],
   "source": [
    "plot_results(history9)"
   ]
  },
  {
   "cell_type": "markdown",
   "metadata": {},
   "source": [
    "# Part 19: Improving performance\n",
    "\n",
    "Spend some time (30 - 90 minutes) playing with the network architecture (number of layers, number of nodes per layer, activation function) and other hyper parameters (optimizer, learning rate, batch size, number of epochs, degree of regularization). For example, try a much deeper network. How much does the training time increase for a network with 10 layers?\n",
    "\n",
    "Question 17: How high classification accuracy can you achieve for the test data? What is your best configuration?"
   ]
  },
  {
   "cell_type": "code",
   "execution_count": null,
   "metadata": {
    "scrolled": true
   },
   "outputs": [],
   "source": [
    "# Find your best configuration for the DNN\n",
    "\n",
    "# Build and train DNN\n",
    "model10 = \n",
    "\n",
    "history10 = \n"
   ]
  },
  {
   "cell_type": "code",
   "execution_count": null,
   "metadata": {},
   "outputs": [],
   "source": [
    "# Evaluate DNN on test data\n",
    "score = \n",
    "\n",
    "print('Test loss: %.4f' % score[0])\n",
    "print('Test accuracy: %.4f' % score[1])"
   ]
  },
  {
   "cell_type": "markdown",
   "metadata": {},
   "source": [
    "# Part 20: Dropout uncertainty\n",
    "\n",
    "Dropout can also be used during testing, to obtain an estimate of the model uncertainty. Since dropout will randomly remove connections, the network will produce different results every time the same (test) data is put into the network. This technique is called Monte Carlo dropout. For more information, see this paper http://proceedings.mlr.press/v48/gal16.pdf\n",
    "\n",
    "To achieve this, we need to redefine the Keras Dropout call by running the cell below, and use 'myDropout' in each call to Dropout, in the cell that defines the DNN. The `build_DNN` function takes two boolean arguments, use_dropout and use_custom_dropout, add a standard Dropout layer if use_dropout is true, add a myDropout layer if use_custom_dropout is true.\n",
    "\n",
    "Run the same test data through the trained network 100 times, with dropout turned on. \n",
    "\n",
    "Question 18: What is the mean and the standard deviation of the test accuracy?"
   ]
  },
  {
   "cell_type": "code",
   "execution_count": 49,
   "metadata": {},
   "outputs": [],
   "source": [
    "import keras.backend as K\n",
    "import keras\n",
    "\n",
    "class myDropout(keras.layers.Dropout):\n",
    "    \"\"\"Applies Dropout to the input.\n",
    "    Dropout consists in randomly setting\n",
    "    a fraction `rate` of input units to 0 at each update during training time,\n",
    "    which helps prevent overfitting.\n",
    "    # Arguments\n",
    "        rate: float between 0 and 1. Fraction of the input units to drop.\n",
    "        noise_shape: 1D integer tensor representing the shape of the\n",
    "            binary dropout mask that will be multiplied with the input.\n",
    "            For instance, if your inputs have shape\n",
    "            `(batch_size, timesteps, features)` and\n",
    "            you want the dropout mask to be the same for all timesteps,\n",
    "            you can use `noise_shape=(batch_size, 1, features)`.\n",
    "        seed: A Python integer to use as random seed.\n",
    "    # References\n",
    "        - [Dropout: A Simple Way to Prevent Neural Networks from Overfitting](\n",
    "           http://www.jmlr.org/papers/volume15/srivastava14a/srivastava14a.pdf)\n",
    "    \"\"\"\n",
    "    def __init__(self, rate, training=True, noise_shape=None, seed=None, **kwargs):\n",
    "        super(myDropout, self).__init__(rate, noise_shape=None, seed=None,**kwargs)\n",
    "        self.training = training\n",
    "\n",
    "        \n",
    "    def call(self, inputs, training=None):\n",
    "        if 0. < self.rate < 1.:\n",
    "            noise_shape = self._get_noise_shape(inputs)\n",
    "\n",
    "            def dropped_inputs():\n",
    "                return K.dropout(inputs, self.rate, noise_shape,\n",
    "                                 seed=self.seed)\n",
    "            if not training: \n",
    "                return K.in_train_phase(dropped_inputs, inputs, training=self.training)\n",
    "            return K.in_train_phase(dropped_inputs, inputs, training=training)\n",
    "        return inputs"
   ]
  },
  {
   "cell_type": "markdown",
   "metadata": {},
   "source": [
    "### Your best config, custom dropout"
   ]
  },
  {
   "cell_type": "code",
   "execution_count": 54,
   "metadata": {
    "scrolled": true
   },
   "outputs": [
    {
     "name": "stdout",
     "output_type": "stream",
     "text": [
      "Layer 1\n",
      "Layer 2\n",
      "Epoch 1/20\n",
      "14/14 [==============================] - 2s 50ms/step - loss: 0.6352 - accuracy: 0.6794 - val_loss: 0.3857 - val_accuracy: 0.8432\n",
      "Epoch 2/20\n",
      "14/14 [==============================] - 0s 35ms/step - loss: 0.4343 - accuracy: 0.8182 - val_loss: 0.3031 - val_accuracy: 0.8464\n",
      "Epoch 3/20\n",
      "14/14 [==============================] - 0s 34ms/step - loss: 0.3540 - accuracy: 0.8374 - val_loss: 0.2505 - val_accuracy: 0.8585\n",
      "Epoch 4/20\n",
      "14/14 [==============================] - 0s 35ms/step - loss: 0.3085 - accuracy: 0.8508 - val_loss: 0.2272 - val_accuracy: 0.8686\n",
      "Epoch 5/20\n",
      "14/14 [==============================] - 0s 34ms/step - loss: 0.2822 - accuracy: 0.8581 - val_loss: 0.2121 - val_accuracy: 0.8731\n",
      "Epoch 6/20\n",
      "14/14 [==============================] - 0s 36ms/step - loss: 0.2652 - accuracy: 0.8630 - val_loss: 0.2009 - val_accuracy: 0.8808\n",
      "Epoch 7/20\n",
      "14/14 [==============================] - 0s 34ms/step - loss: 0.2547 - accuracy: 0.8668 - val_loss: 0.1938 - val_accuracy: 0.8852\n",
      "Epoch 8/20\n",
      "14/14 [==============================] - 0s 35ms/step - loss: 0.2477 - accuracy: 0.8707 - val_loss: 0.1904 - val_accuracy: 0.8883\n",
      "Epoch 9/20\n",
      "14/14 [==============================] - 0s 34ms/step - loss: 0.2407 - accuracy: 0.8735 - val_loss: 0.1863 - val_accuracy: 0.8901\n",
      "Epoch 10/20\n",
      "14/14 [==============================] - 0s 35ms/step - loss: 0.2390 - accuracy: 0.8733 - val_loss: 0.1834 - val_accuracy: 0.8948\n",
      "Epoch 11/20\n",
      "14/14 [==============================] - 0s 34ms/step - loss: 0.2336 - accuracy: 0.8767 - val_loss: 0.1809 - val_accuracy: 0.8944\n",
      "Epoch 12/20\n",
      "14/14 [==============================] - 0s 34ms/step - loss: 0.2312 - accuracy: 0.8775 - val_loss: 0.1794 - val_accuracy: 0.8945\n",
      "Epoch 13/20\n",
      "14/14 [==============================] - 0s 36ms/step - loss: 0.2266 - accuracy: 0.8777 - val_loss: 0.1767 - val_accuracy: 0.9005\n",
      "Epoch 14/20\n",
      "14/14 [==============================] - 0s 34ms/step - loss: 0.2251 - accuracy: 0.8791 - val_loss: 0.1764 - val_accuracy: 0.8970\n",
      "Epoch 15/20\n",
      "14/14 [==============================] - 0s 35ms/step - loss: 0.2249 - accuracy: 0.8799 - val_loss: 0.1751 - val_accuracy: 0.8979\n",
      "Epoch 16/20\n",
      "14/14 [==============================] - 1s 43ms/step - loss: 0.2220 - accuracy: 0.8821 - val_loss: 0.1726 - val_accuracy: 0.9019\n",
      "Epoch 17/20\n",
      "14/14 [==============================] - 0s 33ms/step - loss: 0.2199 - accuracy: 0.8809 - val_loss: 0.1724 - val_accuracy: 0.9019\n",
      "Epoch 18/20\n",
      "14/14 [==============================] - 1s 37ms/step - loss: 0.2180 - accuracy: 0.8823 - val_loss: 0.1715 - val_accuracy: 0.9008\n",
      "Epoch 19/20\n",
      "14/14 [==============================] - 1s 36ms/step - loss: 0.2171 - accuracy: 0.8838 - val_loss: 0.1708 - val_accuracy: 0.9038\n",
      "Epoch 20/20\n",
      "14/14 [==============================] - 0s 35ms/step - loss: 0.2145 - accuracy: 0.8849 - val_loss: 0.1702 - val_accuracy: 0.9063\n"
     ]
    }
   ],
   "source": [
    "# Your best training parameters\n",
    "batch_size = 10000\n",
    "epochs = 20\n",
    "input_shape = Xtrain.shape[1]\n",
    "\n",
    "# Build and train model\n",
    "model11 = build_DNN(input_shape, n_layers = 2, n_nodes = 20, act_fun='sigmoid', optimizer='adam', learning_rate=0.01, \n",
    "              use_bn=False, use_dropout=True, use_custom_dropout=True)\n",
    "\n",
    "history11 = model11.fit(x=Xtrain,\n",
    "                      y=Ytrain,\n",
    "                      batch_size=batch_size,\n",
    "                      epochs=epochs,\n",
    "                      #verbose=\"auto\",\n",
    "                      validation_data = (Xval, Yval)\n",
    "                     )"
   ]
  },
  {
   "cell_type": "code",
   "execution_count": 55,
   "metadata": {},
   "outputs": [
    {
     "name": "stdout",
     "output_type": "stream",
     "text": [
      "Test accuracy: 0.9048\n"
     ]
    }
   ],
   "source": [
    "# Run this cell a few times to evalute the model on test data, \n",
    "# if you get slightly different test accuracy every time, Dropout during testing is working\n",
    "\n",
    "# Evaluate model on test data\n",
    "score = model11.evaluate(\n",
    "    x=Xtest,\n",
    "    y=Ytest,\n",
    "    verbose=\"auto\")\n",
    "                       \n",
    "print('Test accuracy: %.4f' % score[1])"
   ]
  },
  {
   "cell_type": "code",
   "execution_count": 56,
   "metadata": {},
   "outputs": [
    {
     "name": "stdout",
     "output_type": "stream",
     "text": [
      "Mean of predictions: [0.41762721 0.42048537 0.98906278 ... 0.42373653 0.99723101 0.42721584]\n",
      "Std of predictions: [0.06444507 0.07610858 0.02681577 ... 0.07675139 0.0084903  0.07767501]\n"
     ]
    }
   ],
   "source": [
    "# Run the testing 100 times, and save the accuracies in an array\n",
    "n_runs = 100\n",
    "pred = np.zeros((n_runs, Ytest.shape[0]))\n",
    "for i in range(n_runs):\n",
    "    pred[i,:] = model11.predict(\n",
    "        Xtest,\n",
    "        batch_size = batch_size,\n",
    "        verbose=\"auto\").flatten()\n",
    "# Calculate and print mean and std of accuracies\n",
    "print(f\"Mean of predictions: {np.mean(pred, axis = 0)}\")\n",
    "print(f\"Std of predictions: {np.std(pred, axis = 0)}\")"
   ]
  },
  {
   "cell_type": "code",
   "execution_count": 57,
   "metadata": {},
   "outputs": [
    {
     "name": "stdout",
     "output_type": "stream",
     "text": [
      "896/896 [==============================] - 2s 2ms/step - loss: 0.1703 - accuracy: 0.9035\n",
      "896/896 [==============================] - 2s 2ms/step - loss: 0.1711 - accuracy: 0.9051\n",
      "896/896 [==============================] - 2s 2ms/step - loss: 0.1693 - accuracy: 0.9073\n",
      "896/896 [==============================] - 2s 2ms/step - loss: 0.1707 - accuracy: 0.9042\n",
      "896/896 [==============================] - 2s 2ms/step - loss: 0.1707 - accuracy: 0.9032\n",
      "896/896 [==============================] - 2s 2ms/step - loss: 0.1710 - accuracy: 0.9040\n",
      "896/896 [==============================] - 2s 2ms/step - loss: 0.1707 - accuracy: 0.9042: 0s - loss: 0.1697 - accuracy\n",
      "896/896 [==============================] - 2s 2ms/step - loss: 0.1712 - accuracy: 0.9048\n",
      "896/896 [==============================] - 2s 2ms/step - loss: 0.1709 - accuracy: 0.9023\n",
      "896/896 [==============================] - 2s 2ms/step - loss: 0.1709 - accuracy: 0.9035\n",
      "896/896 [==============================] - 2s 2ms/step - loss: 0.1714 - accuracy: 0.9045\n",
      "896/896 [==============================] - 2s 2ms/step - loss: 0.1705 - accuracy: 0.9046\n",
      "896/896 [==============================] - 2s 2ms/step - loss: 0.1714 - accuracy: 0.9046: 0s - loss: 0\n",
      "896/896 [==============================] - 2s 2ms/step - loss: 0.1708 - accuracy: 0.9021\n",
      "896/896 [==============================] - 2s 2ms/step - loss: 0.1702 - accuracy: 0.9056: 0s - loss:\n",
      "896/896 [==============================] - 2s 2ms/step - loss: 0.1714 - accuracy: 0.9031\n",
      "896/896 [==============================] - 2s 2ms/step - loss: 0.1707 - accuracy: 0.9037\n",
      "896/896 [==============================] - 2s 2ms/step - loss: 0.1705 - accuracy: 0.9057\n",
      "896/896 [==============================] - 2s 2ms/step - loss: 0.1704 - accuracy: 0.9033\n",
      "896/896 [==============================] - 2s 2ms/step - loss: 0.1703 - accuracy: 0.9031\n",
      "896/896 [==============================] - 2s 2ms/step - loss: 0.1709 - accuracy: 0.9041: 0s - loss: 0.1703 - accuracy: \n",
      "896/896 [==============================] - 2s 2ms/step - loss: 0.1707 - accuracy: 0.9034: 1s - loss: 0.168\n",
      "896/896 [==============================] - 2s 2ms/step - loss: 0.1704 - accuracy: 0.9050\n",
      "896/896 [==============================] - 2s 2ms/step - loss: 0.1707 - accuracy: 0.9045\n",
      "896/896 [==============================] - 2s 2ms/step - loss: 0.1708 - accuracy: 0.9036\n",
      "896/896 [==============================] - 2s 2ms/step - loss: 0.1711 - accuracy: 0.9042\n",
      "896/896 [==============================] - 2s 2ms/step - loss: 0.1705 - accuracy: 0.9042\n",
      "896/896 [==============================] - 2s 2ms/step - loss: 0.1706 - accuracy: 0.9056\n",
      "896/896 [==============================] - 2s 2ms/step - loss: 0.1714 - accuracy: 0.9049\n",
      "896/896 [==============================] - 2s 2ms/step - loss: 0.1709 - accuracy: 0.9028\n",
      "896/896 [==============================] - 2s 2ms/step - loss: 0.1710 - accuracy: 0.9035\n",
      "896/896 [==============================] - 2s 2ms/step - loss: 0.1703 - accuracy: 0.9053\n",
      "896/896 [==============================] - 2s 2ms/step - loss: 0.1706 - accuracy: 0.9048\n",
      "896/896 [==============================] - 2s 2ms/step - loss: 0.1720 - accuracy: 0.9025\n",
      "896/896 [==============================] - 2s 2ms/step - loss: 0.1699 - accuracy: 0.9052\n",
      "896/896 [==============================] - 2s 2ms/step - loss: 0.1715 - accuracy: 0.9028\n",
      "896/896 [==============================] - 2s 2ms/step - loss: 0.1709 - accuracy: 0.9040\n",
      "896/896 [==============================] - 2s 2ms/step - loss: 0.1708 - accuracy: 0.9043\n",
      "896/896 [==============================] - 2s 2ms/step - loss: 0.1696 - accuracy: 0.9054\n",
      "896/896 [==============================] - 2s 2ms/step - loss: 0.1700 - accuracy: 0.9042\n",
      "896/896 [==============================] - ETA: 0s - loss: 0.1701 - accuracy: 0.90 - 2s 2ms/step - loss: 0.1704 - accuracy: 0.9060\n",
      "896/896 [==============================] - 2s 2ms/step - loss: 0.1708 - accuracy: 0.9034: 1s - loss: - ETA: 0s - loss: 0.1698 - accura\n",
      "896/896 [==============================] - 2s 2ms/step - loss: 0.1712 - accuracy: 0.9029\n",
      "896/896 [==============================] - 2s 2ms/step - loss: 0.1708 - accuracy: 0.9042: 0s - l\n",
      "896/896 [==============================] - 2s 2ms/step - loss: 0.1703 - accuracy: 0.9055\n",
      "896/896 [==============================] - 2s 2ms/step - loss: 0.1704 - accuracy: 0.9057: 0s - loss: 0.1688 - accu\n",
      "896/896 [==============================] - 2s 2ms/step - loss: 0.1715 - accuracy: 0.9033\n",
      "896/896 [==============================] - 2s 2ms/step - loss: 0.1709 - accuracy: 0.9034\n",
      "896/896 [==============================] - 2s 2ms/step - loss: 0.1712 - accuracy: 0.9042\n",
      "896/896 [==============================] - 2s 2ms/step - loss: 0.1699 - accuracy: 0.9051\n",
      "896/896 [==============================] - 2s 2ms/step - loss: 0.1707 - accuracy: 0.9045: 0s - loss: 0.1699 - accuracy: \n",
      "896/896 [==============================] - 2s 2ms/step - loss: 0.1709 - accuracy: 0.9041\n",
      "896/896 [==============================] - 2s 2ms/step - loss: 0.1705 - accuracy: 0.9041\n",
      "896/896 [==============================] - 2s 2ms/step - loss: 0.1701 - accuracy: 0.9038\n",
      "896/896 [==============================] - 2s 2ms/step - loss: 0.1706 - accuracy: 0.9040\n",
      "896/896 [==============================] - 2s 2ms/step - loss: 0.1700 - accuracy: 0.9055: 0s - loss: 0.1687 - accu\n",
      "896/896 [==============================] - 2s 2ms/step - loss: 0.1695 - accuracy: 0.9058\n",
      "896/896 [==============================] - 2s 2ms/step - loss: 0.1699 - accuracy: 0.9052\n",
      "896/896 [==============================] - 2s 2ms/step - loss: 0.1709 - accuracy: 0.9041\n",
      "896/896 [==============================] - 2s 2ms/step - loss: 0.1711 - accuracy: 0.9050: 0s - loss: 0.1708  - ETA: 0s - loss: 0.1693 - \n",
      "896/896 [==============================] - 2s 2ms/step - loss: 0.1707 - accuracy: 0.9050\n",
      "896/896 [==============================] - 2s 2ms/step - loss: 0.1702 - accuracy: 0.9039: 0s\n",
      "896/896 [==============================] - 2s 2ms/step - loss: 0.1703 - accuracy: 0.9046: \n",
      "896/896 [==============================] - 2s 2ms/step - loss: 0.1712 - accuracy: 0.9031\n",
      "896/896 [==============================] - 2s 2ms/step - loss: 0.1701 - accuracy: 0.9045\n",
      "896/896 [==============================] - 2s 2ms/step - loss: 0.1698 - accuracy: 0.9046\n",
      "896/896 [==============================] - 2s 2ms/step - loss: 0.1707 - accuracy: 0.9041\n",
      "896/896 [==============================] - 2s 2ms/step - loss: 0.1702 - accuracy: 0.9054: 0s - loss: 0.168\n",
      "896/896 [==============================] - 2s 2ms/step - loss: 0.1704 - accuracy: 0.9042\n",
      "896/896 [==============================] - 2s 2ms/step - loss: 0.1708 - accuracy: 0.9030\n",
      "896/896 [==============================] - 2s 2ms/step - loss: 0.1703 - accuracy: 0.9055\n",
      "896/896 [==============================] - 2s 2ms/step - loss: 0.1712 - accuracy: 0.9041\n",
      "896/896 [==============================] - 2s 2ms/step - loss: 0.1693 - accuracy: 0.9059\n",
      "896/896 [==============================] - 2s 2ms/step - loss: 0.1708 - accuracy: 0.9056\n",
      "896/896 [==============================] - 2s 2ms/step - loss: 0.1710 - accuracy: 0.9050: 0s\n",
      "896/896 [==============================] - 2s 2ms/step - loss: 0.1694 - accuracy: 0.9063: 0s - loss: 0.1\n",
      "896/896 [==============================] - 2s 2ms/step - loss: 0.1698 - accuracy: 0.9064\n",
      "896/896 [==============================] - 2s 2ms/step - loss: 0.1702 - accuracy: 0.9039\n",
      "896/896 [==============================] - 2s 2ms/step - loss: 0.1715 - accuracy: 0.9020\n",
      "896/896 [==============================] - 2s 2ms/step - loss: 0.1708 - accuracy: 0.9056\n",
      "896/896 [==============================] - 2s 2ms/step - loss: 0.1695 - accuracy: 0.9075\n",
      "896/896 [==============================] - 2s 2ms/step - loss: 0.1702 - accuracy: 0.9056\n",
      "896/896 [==============================] - 2s 2ms/step - loss: 0.1708 - accuracy: 0.9053: 0s - loss: 0.1690 - \n",
      "896/896 [==============================] - 2s 2ms/step - loss: 0.1706 - accuracy: 0.9050\n",
      "896/896 [==============================] - 2s 2ms/step - loss: 0.1701 - accuracy: 0.9049\n",
      "896/896 [==============================] - 2s 2ms/step - loss: 0.1712 - accuracy: 0.9034\n",
      "896/896 [==============================] - 2s 2ms/step - loss: 0.1698 - accuracy: 0.9056\n",
      "896/896 [==============================] - 2s 2ms/step - loss: 0.1707 - accuracy: 0.9061\n",
      "896/896 [==============================] - 2s 2ms/step - loss: 0.1715 - accuracy: 0.9040\n",
      "896/896 [==============================] - 2s 2ms/step - loss: 0.1709 - accuracy: 0.9036\n",
      "896/896 [==============================] - 2s 2ms/step - loss: 0.1704 - accuracy: 0.9033\n",
      "896/896 [==============================] - 2s 2ms/step - loss: 0.1703 - accuracy: 0.9045\n",
      "896/896 [==============================] - 2s 2ms/step - loss: 0.1701 - accuracy: 0.9057\n",
      "896/896 [==============================] - 2s 2ms/step - loss: 0.1707 - accuracy: 0.9054\n",
      "896/896 [==============================] - 2s 2ms/step - loss: 0.1714 - accuracy: 0.9031\n",
      "896/896 [==============================] - 2s 2ms/step - loss: 0.1706 - accuracy: 0.9037\n",
      "896/896 [==============================] - 2s 2ms/step - loss: 0.1708 - accuracy: 0.9039\n",
      "896/896 [==============================] - 2s 2ms/step - loss: 0.1709 - accuracy: 0.9017\n",
      "896/896 [==============================] - 2s 2ms/step - loss: 0.1703 - accuracy: 0.9051: 0s - loss: 0.1691 - accuracy\n",
      "896/896 [==============================] - 2s 2ms/step - loss: 0.1711 - accuracy: 0.9046: 0s - loss: 0.1\n",
      "Mean of predictions: 0.9044119930267334\n",
      "Std of predictions: 0.0011023574510780633\n"
     ]
    }
   ],
   "source": [
    "# Run the testing 100 times, and save the accuracies in an array\n",
    "n_runs = 100\n",
    "accuracy = np.zeros(n_runs)\n",
    "for i in range(n_runs):\n",
    "    accuracy[i] = model11.evaluate(\n",
    "        x=Xtest,\n",
    "        y=Ytest)[1]\n",
    "# Calculate and print mean and std of accuracies\n",
    "print(f\"Mean of predictions: {np.mean(accuracy)}\")\n",
    "print(f\"Std of predictions: {np.std(accuracy)}\")"
   ]
  },
  {
   "cell_type": "markdown",
   "metadata": {},
   "source": [
    "# Part 21: Cross validation uncertainty\n",
    "\n",
    "Cross validation (CV) is often used to evaluate a model, by training and testing using different subsets of the data it is possible to get the uncertainty as the standard deviation over folds. We here use a help function from scikit-learn to setup the CV, see https://scikit-learn.org/stable/modules/generated/sklearn.model_selection.StratifiedKFold.html . Use 10 folds with shuffling, random state 1234. \n",
    "\n",
    "Note: We here assume that you have found the best hyper parameters, so here the data are only split into training and testing, no validation.\n",
    "\n",
    "---\n",
    "\n",
    "Question 19: What is the mean and the standard deviation of the test accuracy?\n",
    "\n",
    "Question 20: What is the main advantage of dropout compared to CV for estimating test uncertainty? The difference may not be so large in this notebook, but imagine that you have a network that takes 24 hours to train."
   ]
  },
  {
   "cell_type": "code",
   "execution_count": 61,
   "metadata": {},
   "outputs": [
    {
     "name": "stdout",
     "output_type": "stream",
     "text": [
      "Fold 0:\n",
      "Layer 1\n",
      "Layer 2\n",
      "Epoch 1/20\n",
      "18/18 [==============================] - 2s 29ms/step - loss: 0.6715 - accuracy: 0.6159\n",
      "Epoch 2/20\n",
      "18/18 [==============================] - 1s 34ms/step - loss: 0.4474 - accuracy: 0.7756\n",
      "Epoch 3/20\n",
      "18/18 [==============================] - 1s 30ms/step - loss: 0.3761 - accuracy: 0.8313\n",
      "Epoch 4/20\n",
      "18/18 [==============================] - 1s 30ms/step - loss: 0.3495 - accuracy: 0.8481\n",
      "Epoch 5/20\n",
      "18/18 [==============================] - 1s 31ms/step - loss: 0.3320 - accuracy: 0.8403 0s - loss: 0.3330 - accura\n",
      "Epoch 6/20\n",
      "18/18 [==============================] - 1s 30ms/step - loss: 0.3198 - accuracy: 0.8369\n",
      "Epoch 7/20\n",
      "18/18 [==============================] - 1s 32ms/step - loss: 0.3118 - accuracy: 0.8381\n",
      "Epoch 8/20\n",
      "18/18 [==============================] - 1s 36ms/step - loss: 0.3027 - accuracy: 0.8402\n",
      "Epoch 9/20\n",
      "18/18 [==============================] - 1s 35ms/step - loss: 0.2938 - accuracy: 0.8425\n",
      "Epoch 10/20\n",
      "18/18 [==============================] - 1s 42ms/step - loss: 0.2909 - accuracy: 0.8420 0s - loss: 0.2907 - accura\n",
      "Epoch 11/20\n",
      "18/18 [==============================] - 1s 38ms/step - loss: 0.2847 - accuracy: 0.8425\n",
      "Epoch 12/20\n",
      "18/18 [==============================] - 1s 42ms/step - loss: 0.2817 - accuracy: 0.8424\n",
      "Epoch 13/20\n",
      "18/18 [==============================] - 1s 33ms/step - loss: 0.2796 - accuracy: 0.8429\n",
      "Epoch 14/20\n",
      "18/18 [==============================] - 1s 38ms/step - loss: 0.2771 - accuracy: 0.8420\n",
      "Epoch 15/20\n",
      "18/18 [==============================] - 1s 29ms/step - loss: 0.2712 - accuracy: 0.8440\n",
      "Epoch 16/20\n",
      "18/18 [==============================] - 0s 26ms/step - loss: 0.2729 - accuracy: 0.8416\n",
      "Epoch 17/20\n",
      "18/18 [==============================] - 1s 39ms/step - loss: 0.2693 - accuracy: 0.8424\n",
      "Epoch 18/20\n",
      "18/18 [==============================] - 0s 24ms/step - loss: 0.2677 - accuracy: 0.8423\n",
      "Epoch 19/20\n",
      "18/18 [==============================] - 0s 24ms/step - loss: 0.2671 - accuracy: 0.8414\n",
      "Epoch 20/20\n",
      "18/18 [==============================] - 0s 22ms/step - loss: 0.2634 - accuracy: 0.8433\n",
      "597/597 [==============================] - 1s 2ms/step - loss: 0.2231 - accuracy: 0.9060\n",
      "Fold 1:\n",
      "Layer 1\n",
      "Layer 2\n",
      "Epoch 1/20\n",
      "18/18 [==============================] - 1s 23ms/step - loss: 0.6483 - accuracy: 0.6338\n",
      "Epoch 2/20\n",
      "18/18 [==============================] - 1s 30ms/step - loss: 0.4345 - accuracy: 0.7911\n",
      "Epoch 3/20\n",
      "18/18 [==============================] - 1s 30ms/step - loss: 0.3690 - accuracy: 0.8342\n",
      "Epoch 4/20\n",
      "18/18 [==============================] - 1s 29ms/step - loss: 0.3390 - accuracy: 0.8380\n",
      "Epoch 5/20\n",
      "18/18 [==============================] - 0s 25ms/step - loss: 0.3207 - accuracy: 0.8414\n",
      "Epoch 6/20\n",
      "18/18 [==============================] - 0s 24ms/step - loss: 0.3100 - accuracy: 0.8441\n",
      "Epoch 7/20\n",
      "18/18 [==============================] - 0s 25ms/step - loss: 0.2976 - accuracy: 0.8460\n",
      "Epoch 8/20\n",
      "18/18 [==============================] - 0s 26ms/step - loss: 0.2892 - accuracy: 0.8476\n",
      "Epoch 9/20\n",
      "18/18 [==============================] - 0s 26ms/step - loss: 0.2812 - accuracy: 0.8495\n",
      "Epoch 10/20\n",
      "18/18 [==============================] - 0s 25ms/step - loss: 0.2781 - accuracy: 0.8500\n",
      "Epoch 11/20\n",
      "18/18 [==============================] - 0s 25ms/step - loss: 0.2728 - accuracy: 0.8485\n",
      "Epoch 12/20\n",
      "18/18 [==============================] - 0s 26ms/step - loss: 0.2699 - accuracy: 0.8504\n",
      "Epoch 13/20\n",
      "18/18 [==============================] - 0s 25ms/step - loss: 0.2690 - accuracy: 0.8497\n",
      "Epoch 14/20\n",
      "18/18 [==============================] - 0s 25ms/step - loss: 0.2642 - accuracy: 0.8496\n",
      "Epoch 15/20\n",
      "18/18 [==============================] - 0s 25ms/step - loss: 0.2629 - accuracy: 0.8491\n",
      "Epoch 16/20\n",
      "18/18 [==============================] - 0s 26ms/step - loss: 0.2621 - accuracy: 0.8499\n",
      "Epoch 17/20\n",
      "18/18 [==============================] - 0s 25ms/step - loss: 0.2615 - accuracy: 0.8490\n",
      "Epoch 18/20\n",
      "18/18 [==============================] - 0s 25ms/step - loss: 0.2586 - accuracy: 0.8481\n",
      "Epoch 19/20\n",
      "18/18 [==============================] - 0s 23ms/step - loss: 0.2580 - accuracy: 0.8496\n",
      "Epoch 20/20\n",
      "18/18 [==============================] - 0s 23ms/step - loss: 0.2562 - accuracy: 0.8501\n",
      "597/597 [==============================] - 1s 2ms/step - loss: 0.2182 - accuracy: 0.9078\n",
      "Fold 2:\n",
      "Layer 1\n",
      "Layer 2\n",
      "Epoch 1/20\n",
      "18/18 [==============================] - 1s 25ms/step - loss: 0.6671 - accuracy: 0.6043\n",
      "Epoch 2/20\n",
      "18/18 [==============================] - 0s 27ms/step - loss: 0.4632 - accuracy: 0.7928\n",
      "Epoch 3/20\n",
      "18/18 [==============================] - 0s 23ms/step - loss: 0.3737 - accuracy: 0.8393\n",
      "Epoch 4/20\n",
      "18/18 [==============================] - 0s 25ms/step - loss: 0.3417 - accuracy: 0.8472\n",
      "Epoch 5/20\n",
      "18/18 [==============================] - 0s 24ms/step - loss: 0.3244 - accuracy: 0.8381\n",
      "Epoch 6/20\n",
      "18/18 [==============================] - 0s 25ms/step - loss: 0.3095 - accuracy: 0.8435\n",
      "Epoch 7/20\n",
      "18/18 [==============================] - 0s 25ms/step - loss: 0.2986 - accuracy: 0.8481\n",
      "Epoch 8/20\n",
      "18/18 [==============================] - 0s 25ms/step - loss: 0.2905 - accuracy: 0.8488\n",
      "Epoch 9/20\n",
      "18/18 [==============================] - 0s 24ms/step - loss: 0.2837 - accuracy: 0.8510\n",
      "Epoch 10/20\n",
      "18/18 [==============================] - 0s 25ms/step - loss: 0.2810 - accuracy: 0.8530\n",
      "Epoch 11/20\n",
      "18/18 [==============================] - 0s 25ms/step - loss: 0.2757 - accuracy: 0.8538\n",
      "Epoch 12/20\n",
      "18/18 [==============================] - 0s 25ms/step - loss: 0.2724 - accuracy: 0.8536\n",
      "Epoch 13/20\n",
      "18/18 [==============================] - ETA: 0s - loss: 0.2722 - accuracy: 0.85 - 1s 28ms/step - loss: 0.2719 - accuracy: 0.8544\n",
      "Epoch 14/20\n",
      "18/18 [==============================] - 0s 26ms/step - loss: 0.2685 - accuracy: 0.8559\n",
      "Epoch 15/20\n",
      "18/18 [==============================] - 0s 26ms/step - loss: 0.2664 - accuracy: 0.8560\n",
      "Epoch 16/20\n",
      "18/18 [==============================] - 0s 24ms/step - loss: 0.2658 - accuracy: 0.8563\n",
      "Epoch 17/20\n",
      "18/18 [==============================] - 0s 24ms/step - loss: 0.2655 - accuracy: 0.8561\n",
      "Epoch 18/20\n",
      "18/18 [==============================] - 0s 23ms/step - loss: 0.2626 - accuracy: 0.8564\n",
      "Epoch 19/20\n",
      "18/18 [==============================] - 0s 23ms/step - loss: 0.2621 - accuracy: 0.8576\n",
      "Epoch 20/20\n",
      "18/18 [==============================] - 0s 23ms/step - loss: 0.2611 - accuracy: 0.8579\n",
      "597/597 [==============================] - 1s 2ms/step - loss: 0.2208 - accuracy: 0.9086\n",
      "Fold 3:\n",
      "Layer 1\n",
      "Layer 2\n",
      "Epoch 1/20\n",
      "18/18 [==============================] - 1s 24ms/step - loss: 0.6370 - accuracy: 0.6484\n",
      "Epoch 2/20\n",
      "18/18 [==============================] - 1s 29ms/step - loss: 0.4418 - accuracy: 0.7993\n",
      "Epoch 3/20\n",
      "18/18 [==============================] - 1s 30ms/step - loss: 0.3678 - accuracy: 0.8205\n",
      "Epoch 4/20\n",
      "18/18 [==============================] - 1s 31ms/step - loss: 0.3354 - accuracy: 0.8307\n",
      "Epoch 5/20\n",
      "18/18 [==============================] - 0s 26ms/step - loss: 0.3164 - accuracy: 0.8358\n",
      "Epoch 6/20\n",
      "18/18 [==============================] - 0s 25ms/step - loss: 0.3021 - accuracy: 0.8388\n",
      "Epoch 7/20\n",
      "18/18 [==============================] - 0s 25ms/step - loss: 0.2922 - accuracy: 0.8412 0s - loss: 0.2931 - accuracy: 0.\n",
      "Epoch 8/20\n",
      "18/18 [==============================] - 0s 24ms/step - loss: 0.2855 - accuracy: 0.8419\n",
      "Epoch 9/20\n",
      "18/18 [==============================] - 0s 24ms/step - loss: 0.2786 - accuracy: 0.8426\n",
      "Epoch 10/20\n",
      "18/18 [==============================] - 1s 36ms/step - loss: 0.2739 - accuracy: 0.8433\n",
      "Epoch 11/20\n",
      "18/18 [==============================] - 1s 43ms/step - loss: 0.2701 - accuracy: 0.8435\n",
      "Epoch 12/20\n",
      "18/18 [==============================] - 1s 37ms/step - loss: 0.2674 - accuracy: 0.8432\n",
      "Epoch 13/20\n",
      "18/18 [==============================] - 1s 28ms/step - loss: 0.2639 - accuracy: 0.8450\n",
      "Epoch 14/20\n",
      "18/18 [==============================] - 1s 28ms/step - loss: 0.2605 - accuracy: 0.8460\n",
      "Epoch 15/20\n",
      "18/18 [==============================] - 1s 36ms/step - loss: 0.2597 - accuracy: 0.8447\n",
      "Epoch 16/20\n",
      "18/18 [==============================] - 1s 30ms/step - loss: 0.2592 - accuracy: 0.8452\n",
      "Epoch 17/20\n",
      "18/18 [==============================] - 0s 28ms/step - loss: 0.2559 - accuracy: 0.8450\n",
      "Epoch 18/20\n",
      "18/18 [==============================] - 1s 28ms/step - loss: 0.2546 - accuracy: 0.8456\n",
      "Epoch 19/20\n",
      "18/18 [==============================] - 0s 27ms/step - loss: 0.2540 - accuracy: 0.8455\n",
      "Epoch 20/20\n",
      "18/18 [==============================] - 1s 30ms/step - loss: 0.2531 - accuracy: 0.8448\n",
      "597/597 [==============================] - 1s 2ms/step - loss: 0.2131 - accuracy: 0.9109\n",
      "Fold 4:\n",
      "Layer 1\n",
      "Layer 2\n",
      "Epoch 1/20\n",
      "18/18 [==============================] - 1s 26ms/step - loss: 0.6706 - accuracy: 0.6231\n",
      "Epoch 2/20\n",
      "18/18 [==============================] - 0s 27ms/step - loss: 0.4420 - accuracy: 0.7915\n",
      "Epoch 3/20\n",
      "18/18 [==============================] - 1s 28ms/step - loss: 0.3613 - accuracy: 0.8337\n",
      "Epoch 4/20\n",
      "18/18 [==============================] - 1s 29ms/step - loss: 0.3352 - accuracy: 0.8449\n",
      "Epoch 5/20\n",
      "18/18 [==============================] - 0s 25ms/step - loss: 0.3157 - accuracy: 0.8487\n",
      "Epoch 6/20\n",
      "18/18 [==============================] - 1s 27ms/step - loss: 0.3005 - accuracy: 0.8526\n",
      "Epoch 7/20\n",
      "18/18 [==============================] - 0s 25ms/step - loss: 0.2951 - accuracy: 0.8556\n",
      "Epoch 8/20\n",
      "18/18 [==============================] - 0s 25ms/step - loss: 0.2860 - accuracy: 0.8572\n",
      "Epoch 9/20\n",
      "18/18 [==============================] - 0s 25ms/step - loss: 0.2797 - accuracy: 0.8576\n",
      "Epoch 10/20\n",
      "18/18 [==============================] - 0s 25ms/step - loss: 0.2729 - accuracy: 0.8581\n",
      "Epoch 11/20\n",
      "18/18 [==============================] - 1s 29ms/step - loss: 0.2703 - accuracy: 0.8588\n",
      "Epoch 12/20\n",
      "18/18 [==============================] - 0s 25ms/step - loss: 0.2666 - accuracy: 0.8597\n",
      "Epoch 13/20\n",
      "18/18 [==============================] - 0s 26ms/step - loss: 0.2638 - accuracy: 0.8595\n",
      "Epoch 14/20\n",
      "18/18 [==============================] - 0s 27ms/step - loss: 0.2610 - accuracy: 0.8598\n",
      "Epoch 15/20\n",
      "18/18 [==============================] - 0s 28ms/step - loss: 0.2602 - accuracy: 0.8589\n",
      "Epoch 16/20\n",
      "18/18 [==============================] - 1s 28ms/step - loss: 0.2580 - accuracy: 0.8594\n",
      "Epoch 17/20\n",
      "18/18 [==============================] - 0s 27ms/step - loss: 0.2573 - accuracy: 0.8589\n",
      "Epoch 18/20\n",
      "18/18 [==============================] - 0s 26ms/step - loss: 0.2551 - accuracy: 0.8591\n",
      "Epoch 19/20\n",
      "18/18 [==============================] - 0s 25ms/step - loss: 0.2527 - accuracy: 0.8599\n",
      "Epoch 20/20\n",
      "18/18 [==============================] - 0s 25ms/step - loss: 0.2514 - accuracy: 0.8598\n",
      "597/597 [==============================] - 1s 2ms/step - loss: 0.2179 - accuracy: 0.9075\n",
      "Fold 5:\n",
      "Layer 1\n",
      "Layer 2\n",
      "Epoch 1/20\n",
      "18/18 [==============================] - 1s 25ms/step - loss: 0.7694 - accuracy: 0.4821\n",
      "Epoch 2/20\n",
      "18/18 [==============================] - 0s 25ms/step - loss: 0.5125 - accuracy: 0.7711\n",
      "Epoch 3/20\n",
      "18/18 [==============================] - 0s 24ms/step - loss: 0.4164 - accuracy: 0.8168\n",
      "Epoch 4/20\n",
      "18/18 [==============================] - 0s 26ms/step - loss: 0.3697 - accuracy: 0.8394\n",
      "Epoch 5/20\n",
      "18/18 [==============================] - 0s 24ms/step - loss: 0.3445 - accuracy: 0.8525\n",
      "Epoch 6/20\n",
      "18/18 [==============================] - 0s 25ms/step - loss: 0.3274 - accuracy: 0.8616\n",
      "Epoch 7/20\n",
      "18/18 [==============================] - 0s 25ms/step - loss: 0.3168 - accuracy: 0.8637 0s - loss: 0.3179 - accuracy: \n",
      "Epoch 8/20\n",
      "18/18 [==============================] - 0s 25ms/step - loss: 0.3077 - accuracy: 0.8650\n",
      "Epoch 9/20\n",
      "18/18 [==============================] - 1s 30ms/step - loss: 0.2999 - accuracy: 0.8647\n",
      "Epoch 10/20\n",
      "18/18 [==============================] - 0s 25ms/step - loss: 0.2932 - accuracy: 0.8565\n",
      "Epoch 11/20\n",
      "18/18 [==============================] - 0s 26ms/step - loss: 0.2892 - accuracy: 0.8320\n",
      "Epoch 12/20\n",
      "18/18 [==============================] - 0s 26ms/step - loss: 0.2828 - accuracy: 0.8321\n",
      "Epoch 13/20\n",
      "18/18 [==============================] - 0s 25ms/step - loss: 0.2801 - accuracy: 0.8331\n",
      "Epoch 14/20\n",
      "18/18 [==============================] - 0s 27ms/step - loss: 0.2766 - accuracy: 0.8329\n",
      "Epoch 15/20\n",
      "18/18 [==============================] - 0s 26ms/step - loss: 0.2735 - accuracy: 0.8338\n",
      "Epoch 16/20\n",
      "18/18 [==============================] - 0s 26ms/step - loss: 0.2717 - accuracy: 0.8326\n",
      "Epoch 17/20\n",
      "18/18 [==============================] - 0s 24ms/step - loss: 0.2716 - accuracy: 0.8325\n",
      "Epoch 18/20\n",
      "18/18 [==============================] - 1s 30ms/step - loss: 0.2684 - accuracy: 0.8326\n",
      "Epoch 19/20\n",
      "18/18 [==============================] - 0s 25ms/step - loss: 0.2669 - accuracy: 0.8318\n",
      "Epoch 20/20\n",
      "18/18 [==============================] - 0s 25ms/step - loss: 0.2644 - accuracy: 0.8334\n",
      "597/597 [==============================] - ETA: 0s - loss: 0.2122 - accuracy: 0.91 - 1s 2ms/step - loss: 0.2129 - accuracy: 0.9125\n",
      "Fold 6:\n",
      "Layer 1\n",
      "Layer 2\n",
      "Epoch 1/20\n",
      "18/18 [==============================] - 1s 26ms/step - loss: 0.7155 - accuracy: 0.5005\n",
      "Epoch 2/20\n",
      "18/18 [==============================] - 0s 25ms/step - loss: 0.5176 - accuracy: 0.7454\n",
      "Epoch 3/20\n",
      "18/18 [==============================] - 0s 25ms/step - loss: 0.4105 - accuracy: 0.8089\n",
      "Epoch 4/20\n",
      "18/18 [==============================] - 0s 24ms/step - loss: 0.3607 - accuracy: 0.8423\n",
      "Epoch 5/20\n",
      "18/18 [==============================] - 0s 25ms/step - loss: 0.3359 - accuracy: 0.8554\n",
      "Epoch 6/20\n",
      "18/18 [==============================] - 0s 26ms/step - loss: 0.3194 - accuracy: 0.8599\n",
      "Epoch 7/20\n",
      "18/18 [==============================] - 0s 25ms/step - loss: 0.3099 - accuracy: 0.8607\n",
      "Epoch 8/20\n",
      "18/18 [==============================] - 1s 30ms/step - loss: 0.2997 - accuracy: 0.8477 0s - loss: 0.3014 - accu\n",
      "Epoch 9/20\n",
      "18/18 [==============================] - 0s 26ms/step - loss: 0.2949 - accuracy: 0.8418\n",
      "Epoch 10/20\n",
      "18/18 [==============================] - 0s 27ms/step - loss: 0.2906 - accuracy: 0.8424\n",
      "Epoch 11/20\n",
      "18/18 [==============================] - 0s 27ms/step - loss: 0.2842 - accuracy: 0.8431\n",
      "Epoch 12/20\n",
      "18/18 [==============================] - 0s 26ms/step - loss: 0.2812 - accuracy: 0.8423\n",
      "Epoch 13/20\n",
      "18/18 [==============================] - 0s 26ms/step - loss: 0.2777 - accuracy: 0.8443\n",
      "Epoch 14/20\n",
      "18/18 [==============================] - 0s 25ms/step - loss: 0.2762 - accuracy: 0.8429\n",
      "Epoch 15/20\n",
      "18/18 [==============================] - 0s 26ms/step - loss: 0.2740 - accuracy: 0.8446\n",
      "Epoch 16/20\n",
      "18/18 [==============================] - 0s 26ms/step - loss: 0.2716 - accuracy: 0.8446\n",
      "Epoch 17/20\n",
      "18/18 [==============================] - 0s 26ms/step - loss: 0.2683 - accuracy: 0.8446\n",
      "Epoch 18/20\n",
      "18/18 [==============================] - 0s 25ms/step - loss: 0.2699 - accuracy: 0.8435\n",
      "Epoch 19/20\n",
      "18/18 [==============================] - 0s 28ms/step - loss: 0.2679 - accuracy: 0.8421\n",
      "Epoch 20/20\n",
      "18/18 [==============================] - 1s 28ms/step - loss: 0.2665 - accuracy: 0.8426\n",
      "597/597 [==============================] - 1s 2ms/step - loss: 0.2213 - accuracy: 0.9080\n",
      "Fold 7:\n",
      "Layer 1\n",
      "Layer 2\n",
      "Epoch 1/20\n",
      "18/18 [==============================] - 1s 26ms/step - loss: 0.6814 - accuracy: 0.5991 0s - loss: 0.6828 - accuracy: 0.59\n",
      "Epoch 2/20\n",
      "18/18 [==============================] - 1s 28ms/step - loss: 0.4652 - accuracy: 0.7772\n",
      "Epoch 3/20\n",
      "18/18 [==============================] - 0s 26ms/step - loss: 0.3734 - accuracy: 0.8362\n",
      "Epoch 4/20\n",
      "18/18 [==============================] - 0s 26ms/step - loss: 0.3393 - accuracy: 0.8413 0s - loss: 0.3394 - accuracy: 0.84\n",
      "Epoch 5/20\n",
      "18/18 [==============================] - 0s 26ms/step - loss: 0.3215 - accuracy: 0.8464\n",
      "Epoch 6/20\n",
      "18/18 [==============================] - 0s 27ms/step - loss: 0.3084 - accuracy: 0.8483\n",
      "Epoch 7/20\n",
      "18/18 [==============================] - 1s 30ms/step - loss: 0.2956 - accuracy: 0.8500\n",
      "Epoch 8/20\n",
      "18/18 [==============================] - 0s 25ms/step - loss: 0.2882 - accuracy: 0.8513\n",
      "Epoch 9/20\n",
      "18/18 [==============================] - 0s 26ms/step - loss: 0.2807 - accuracy: 0.8511\n",
      "Epoch 10/20\n",
      "18/18 [==============================] - 0s 25ms/step - loss: 0.2750 - accuracy: 0.8511\n",
      "Epoch 11/20\n",
      "18/18 [==============================] - 0s 26ms/step - loss: 0.2695 - accuracy: 0.8531\n",
      "Epoch 12/20\n",
      "18/18 [==============================] - 0s 27ms/step - loss: 0.2669 - accuracy: 0.8519\n",
      "Epoch 13/20\n",
      "18/18 [==============================] - 0s 26ms/step - loss: 0.2629 - accuracy: 0.8513\n",
      "Epoch 14/20\n",
      "18/18 [==============================] - 0s 26ms/step - loss: 0.2602 - accuracy: 0.8521\n",
      "Epoch 15/20\n",
      "18/18 [==============================] - 1s 28ms/step - loss: 0.2588 - accuracy: 0.8517\n",
      "Epoch 16/20\n",
      "18/18 [==============================] - 0s 26ms/step - loss: 0.2555 - accuracy: 0.8513\n",
      "Epoch 17/20\n",
      "18/18 [==============================] - 1s 31ms/step - loss: 0.2526 - accuracy: 0.8527\n",
      "Epoch 18/20\n",
      "18/18 [==============================] - 0s 26ms/step - loss: 0.2530 - accuracy: 0.8520\n",
      "Epoch 19/20\n",
      "18/18 [==============================] - 0s 26ms/step - loss: 0.2515 - accuracy: 0.8514\n",
      "Epoch 20/20\n",
      "18/18 [==============================] - 0s 25ms/step - loss: 0.2498 - accuracy: 0.8527\n",
      "597/597 [==============================] - 1s 2ms/step - loss: 0.2237 - accuracy: 0.9052\n",
      "Fold 8:\n",
      "Layer 1\n",
      "Layer 2\n",
      "Epoch 1/20\n",
      "18/18 [==============================] - 1s 26ms/step - loss: 0.7238 - accuracy: 0.6204\n",
      "Epoch 2/20\n",
      "18/18 [==============================] - 0s 27ms/step - loss: 0.4759 - accuracy: 0.7754\n",
      "Epoch 3/20\n",
      "18/18 [==============================] - 1s 30ms/step - loss: 0.3825 - accuracy: 0.8227\n",
      "Epoch 4/20\n",
      "18/18 [==============================] - 1s 29ms/step - loss: 0.3461 - accuracy: 0.8374\n",
      "Epoch 5/20\n",
      "18/18 [==============================] - 0s 25ms/step - loss: 0.3316 - accuracy: 0.8419\n",
      "Epoch 6/20\n",
      "18/18 [==============================] - 0s 25ms/step - loss: 0.3210 - accuracy: 0.8447\n",
      "Epoch 7/20\n",
      "18/18 [==============================] - 0s 26ms/step - loss: 0.3140 - accuracy: 0.8473\n",
      "Epoch 8/20\n",
      "18/18 [==============================] - 0s 26ms/step - loss: 0.3032 - accuracy: 0.8502\n",
      "Epoch 9/20\n",
      "18/18 [==============================] - 0s 26ms/step - loss: 0.2991 - accuracy: 0.8513\n",
      "Epoch 10/20\n",
      "18/18 [==============================] - 1s 28ms/step - loss: 0.2910 - accuracy: 0.8525\n",
      "Epoch 11/20\n",
      "18/18 [==============================] - 0s 26ms/step - loss: 0.2864 - accuracy: 0.8527\n",
      "Epoch 12/20\n",
      "18/18 [==============================] - 0s 27ms/step - loss: 0.2830 - accuracy: 0.8540\n",
      "Epoch 13/20\n",
      "18/18 [==============================] - 1s 30ms/step - loss: 0.2796 - accuracy: 0.8536\n",
      "Epoch 14/20\n",
      "18/18 [==============================] - 0s 25ms/step - loss: 0.2773 - accuracy: 0.8535\n",
      "Epoch 15/20\n",
      "18/18 [==============================] - 0s 27ms/step - loss: 0.2730 - accuracy: 0.8550\n",
      "Epoch 16/20\n",
      "18/18 [==============================] - 0s 27ms/step - loss: 0.2729 - accuracy: 0.8537\n",
      "Epoch 17/20\n",
      "18/18 [==============================] - 0s 26ms/step - loss: 0.2719 - accuracy: 0.8520\n",
      "Epoch 18/20\n",
      "18/18 [==============================] - 0s 26ms/step - loss: 0.2674 - accuracy: 0.8544\n",
      "Epoch 19/20\n",
      "18/18 [==============================] - 0s 27ms/step - loss: 0.2654 - accuracy: 0.8536\n",
      "Epoch 20/20\n",
      "18/18 [==============================] - 0s 26ms/step - loss: 0.2638 - accuracy: 0.8555\n",
      "597/597 [==============================] - 1s 2ms/step - loss: 0.2254 - accuracy: 0.9051\n",
      "Fold 9:\n",
      "Layer 1\n",
      "Layer 2\n",
      "Epoch 1/20\n",
      "18/18 [==============================] - 1s 25ms/step - loss: 0.6572 - accuracy: 0.6158\n",
      "Epoch 2/20\n",
      "18/18 [==============================] - 0s 26ms/step - loss: 0.4373 - accuracy: 0.7834\n",
      "Epoch 3/20\n",
      "18/18 [==============================] - 0s 26ms/step - loss: 0.3624 - accuracy: 0.8380\n",
      "Epoch 4/20\n",
      "18/18 [==============================] - 1s 28ms/step - loss: 0.3361 - accuracy: 0.8535\n",
      "Epoch 5/20\n",
      "18/18 [==============================] - 0s 26ms/step - loss: 0.3190 - accuracy: 0.8434\n",
      "Epoch 6/20\n",
      "18/18 [==============================] - 1s 28ms/step - loss: 0.3083 - accuracy: 0.8267\n",
      "Epoch 7/20\n",
      "18/18 [==============================] - 0s 26ms/step - loss: 0.2983 - accuracy: 0.8284\n",
      "Epoch 8/20\n",
      "18/18 [==============================] - 1s 31ms/step - loss: 0.2909 - accuracy: 0.8285\n",
      "Epoch 9/20\n",
      "18/18 [==============================] - 0s 26ms/step - loss: 0.2857 - accuracy: 0.8294\n",
      "Epoch 10/20\n",
      "18/18 [==============================] - 0s 23ms/step - loss: 0.2816 - accuracy: 0.8288\n",
      "Epoch 11/20\n",
      "18/18 [==============================] - 0s 24ms/step - loss: 0.2776 - accuracy: 0.8290\n",
      "Epoch 12/20\n",
      "18/18 [==============================] - 0s 22ms/step - loss: 0.2758 - accuracy: 0.8286\n",
      "Epoch 13/20\n",
      "18/18 [==============================] - 1s 30ms/step - loss: 0.2715 - accuracy: 0.8302\n",
      "Epoch 14/20\n",
      "18/18 [==============================] - 1s 30ms/step - loss: 0.2707 - accuracy: 0.8297\n",
      "Epoch 15/20\n",
      "18/18 [==============================] - 1s 32ms/step - loss: 0.2688 - accuracy: 0.8290\n",
      "Epoch 16/20\n",
      "18/18 [==============================] - 1s 27ms/step - loss: 0.2674 - accuracy: 0.8298\n",
      "Epoch 17/20\n",
      "18/18 [==============================] - 1s 28ms/step - loss: 0.2683 - accuracy: 0.8280\n",
      "Epoch 18/20\n",
      "18/18 [==============================] - 1s 32ms/step - loss: 0.2651 - accuracy: 0.8286\n",
      "Epoch 19/20\n",
      "18/18 [==============================] - 0s 27ms/step - loss: 0.2668 - accuracy: 0.8283\n",
      "Epoch 20/20\n",
      "18/18 [==============================] - 0s 27ms/step - loss: 0.2647 - accuracy: 0.8272\n",
      "597/597 [==============================] - 1s 2ms/step - loss: 0.2149 - accuracy: 0.9088\n",
      "Accuracy mean: 0.9080325543880463, std: 0.002231295990728759\n"
     ]
    }
   ],
   "source": [
    "from sklearn.model_selection import StratifiedKFold\n",
    "from sklearn.utils import class_weight\n",
    "\n",
    "n_fold = 10\n",
    "test_accuracy = np.zeros(n_fold)\n",
    "\n",
    "# Define 10-fold cross validation\n",
    "skf = StratifiedKFold(n_splits=n_fold, random_state=1234, shuffle=True)\n",
    "# Loop over cross validation folds\n",
    "for i, (train_index, test_index) in enumerate(skf.split(X, Y)):\n",
    "    print(f\"Fold {i}:\")\n",
    "    Xtrain = X[train_index]\n",
    "    Ytrain = Y[train_index]\n",
    "    Xtest = X[test_index]\n",
    "    Ytest = Y[test_index]\n",
    "    #print(f\"  Train: length = {len(Xtrain)}\")\n",
    "    #print(f\"  Test:  length = {len(Ytrain)}\")\n",
    "    # Calculate class weights for current split\n",
    "    class_weights = class_weight.compute_class_weight(class_weight = 'balanced', \n",
    "                                                      classes = np.unique(Ytrain), \n",
    "                                                      y = Ytrain)\n",
    "    class_weights = {0: class_weights[0],\n",
    "                 1: class_weights[1]}\n",
    "    # Rebuild the DNN model, to not continue training on the previously trained model\n",
    "    batch_size = 10000\n",
    "    epochs = 20\n",
    "    input_shape = Xtrain.shape[1]\n",
    "    model_cvv = build_DNN(input_shape, n_layers = 2, n_nodes = 20, act_fun='sigmoid', optimizer='adam', learning_rate=0.01, \n",
    "              use_bn=False, use_dropout=True, use_custom_dropout=True)\n",
    "    # Fit the model with training set and class weights for this fold\n",
    "    history = model_cvv.fit(x=Xtrain,\n",
    "                      y=Ytrain,\n",
    "                      batch_size=batch_size,\n",
    "                      epochs=epochs,\n",
    "                      #verbose=\"auto\",\n",
    "                      #validation_data = (Xval, Yval),\n",
    "                      class_weight=class_weights\n",
    "                     )\n",
    "    # Evaluate the model using the test set for this fold\n",
    "    score = model_cvv.evaluate(x=Xtest,\n",
    "                            y=Ytest)\n",
    "    # Save the test accuracy in an array\n",
    "    test_accuracy[i] = score[1]\n",
    "    #print(score[1])\n",
    "# Calculate and print mean and std of accuracies\n",
    "print(f\"Accuracy mean: {np.mean(test_accuracy)}, std: {np.std(test_accuracy)}\")\n"
   ]
  },
  {
   "cell_type": "markdown",
   "metadata": {},
   "source": [
    "# Part 22: DNN regression\n",
    "\n",
    "A similar DNN can be used for regression, instead of classification.\n",
    "\n",
    "Question 21: How would you change the DNN used in this lab in order to use it for regression instead?"
   ]
  },
  {
   "cell_type": "markdown",
   "metadata": {},
   "source": [
    "## Report\n",
    "\n",
    "Send in this jupyter notebook, with answers to all questions."
   ]
  }
 ],
 "metadata": {
  "kernelspec": {
   "display_name": "Python 3",
   "language": "python",
   "name": "python3"
  },
  "language_info": {
   "codemirror_mode": {
    "name": "ipython",
    "version": 3
   },
   "file_extension": ".py",
   "mimetype": "text/x-python",
   "name": "python",
   "nbconvert_exporter": "python",
   "pygments_lexer": "ipython3",
   "version": "3.8.8"
  }
 },
 "nbformat": 4,
 "nbformat_minor": 4
}
